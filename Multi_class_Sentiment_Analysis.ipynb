{
  "nbformat": 4,
  "nbformat_minor": 0,
  "metadata": {
    "colab": {
      "name": "Multi-class Sentiment Analysis.ipynb",
      "version": "0.3.2",
      "provenance": [],
      "collapsed_sections": [],
      "toc_visible": true,
      "machine_shape": "hm",
      "include_colab_link": true
    },
    "kernelspec": {
      "name": "python3",
      "display_name": "Python 3"
    },
    "accelerator": "GPU"
  },
  "cells": [
    {
      "cell_type": "markdown",
      "metadata": {
        "id": "view-in-github",
        "colab_type": "text"
      },
      "source": [
        "<a href=\"https://colab.research.google.com/github/AnirbanMukherjeeXD/amazon-sentiment-analysis/blob/master/Multi_class_Sentiment_Analysis.ipynb\" target=\"_parent\"><img src=\"https://colab.research.google.com/assets/colab-badge.svg\" alt=\"Open In Colab\"/></a>"
      ]
    },
    {
      "cell_type": "code",
      "metadata": {
        "id": "QGRbeZfe6Mlb",
        "colab_type": "code",
        "colab": {}
      },
      "source": [
        "import warnings\n",
        "warnings.filterwarnings('ignore')"
      ],
      "execution_count": 0,
      "outputs": []
    },
    {
      "cell_type": "code",
      "metadata": {
        "id": "2KkL8Pxbt2Sg",
        "colab_type": "code",
        "colab": {}
      },
      "source": [
        "import numpy as np\n",
        "import pandas as pd\n",
        "import seaborn as sns\n",
        "import matplotlib.pyplot as plt"
      ],
      "execution_count": 0,
      "outputs": []
    },
    {
      "cell_type": "markdown",
      "metadata": {
        "id": "3xm6KqF5yrxj",
        "colab_type": "text"
      },
      "source": [
        "#Datasets"
      ]
    },
    {
      "cell_type": "markdown",
      "metadata": {
        "id": "tuaFKGlPt-s5",
        "colab_type": "text"
      },
      "source": [
        "##Dataset 1"
      ]
    },
    {
      "cell_type": "code",
      "metadata": {
        "id": "rNCIFAz64YHr",
        "colab_type": "code",
        "outputId": "f1ee0f31-223a-4d6f-d538-fcc219995c13",
        "colab": {
          "base_uri": "https://localhost:8080/",
          "height": 197
        }
      },
      "source": [
        "dataset1=pd.read_json('https://raw.githubusercontent.com/AnirbanMukherjeeXD/amazon-sentiment-analysis/master/dataset/Amazon_Instant_Video_5.json?token=AIJPU64KFFGET5BHPE3UMN25ILUTA',lines=True).loc[:,['overall','reviewText']]\n",
        "dataset1.head()"
      ],
      "execution_count": 3,
      "outputs": [
        {
          "output_type": "execute_result",
          "data": {
            "text/html": [
              "<div>\n",
              "<style scoped>\n",
              "    .dataframe tbody tr th:only-of-type {\n",
              "        vertical-align: middle;\n",
              "    }\n",
              "\n",
              "    .dataframe tbody tr th {\n",
              "        vertical-align: top;\n",
              "    }\n",
              "\n",
              "    .dataframe thead th {\n",
              "        text-align: right;\n",
              "    }\n",
              "</style>\n",
              "<table border=\"1\" class=\"dataframe\">\n",
              "  <thead>\n",
              "    <tr style=\"text-align: right;\">\n",
              "      <th></th>\n",
              "      <th>overall</th>\n",
              "      <th>reviewText</th>\n",
              "    </tr>\n",
              "  </thead>\n",
              "  <tbody>\n",
              "    <tr>\n",
              "      <th>0</th>\n",
              "      <td>2</td>\n",
              "      <td>I had big expectations because I love English ...</td>\n",
              "    </tr>\n",
              "    <tr>\n",
              "      <th>1</th>\n",
              "      <td>5</td>\n",
              "      <td>I highly recommend this series. It is a must f...</td>\n",
              "    </tr>\n",
              "    <tr>\n",
              "      <th>2</th>\n",
              "      <td>1</td>\n",
              "      <td>This one is a real snoozer. Don't believe anyt...</td>\n",
              "    </tr>\n",
              "    <tr>\n",
              "      <th>3</th>\n",
              "      <td>4</td>\n",
              "      <td>Mysteries are interesting.  The tension betwee...</td>\n",
              "    </tr>\n",
              "    <tr>\n",
              "      <th>4</th>\n",
              "      <td>5</td>\n",
              "      <td>This show always is excellent, as far as briti...</td>\n",
              "    </tr>\n",
              "  </tbody>\n",
              "</table>\n",
              "</div>"
            ],
            "text/plain": [
              "   overall                                         reviewText\n",
              "0        2  I had big expectations because I love English ...\n",
              "1        5  I highly recommend this series. It is a must f...\n",
              "2        1  This one is a real snoozer. Don't believe anyt...\n",
              "3        4  Mysteries are interesting.  The tension betwee...\n",
              "4        5  This show always is excellent, as far as briti..."
            ]
          },
          "metadata": {
            "tags": []
          },
          "execution_count": 3
        }
      ]
    },
    {
      "cell_type": "code",
      "metadata": {
        "id": "o_yxnrGSivyW",
        "colab_type": "code",
        "outputId": "1dde14b1-7a19-4431-b1e9-e211d4f3edb7",
        "colab": {
          "base_uri": "https://localhost:8080/",
          "height": 385
        }
      },
      "source": [
        "sns.countplot(dataset1['overall'])\n",
        "pd.Series(dataset1['overall']).value_counts()*100/pd.Series(dataset1['overall']).count()"
      ],
      "execution_count": 24,
      "outputs": [
        {
          "output_type": "execute_result",
          "data": {
            "text/plain": [
              "5    56.267845\n",
              "4    22.749556\n",
              "3    11.277811\n",
              "2     5.077304\n",
              "1     4.627485\n",
              "Name: overall, dtype: float64"
            ]
          },
          "metadata": {
            "tags": []
          },
          "execution_count": 24
        },
        {
          "output_type": "display_data",
          "data": {
            "image/png": "[encoded data removed]",
            "text/plain": [
              "<Figure size 432x288 with 1 Axes>"
            ]
          },
          "metadata": {
            "tags": []
          }
        }
      ]
    },
    {
      "cell_type": "markdown",
      "metadata": {
        "colab_type": "text",
        "id": "sWkJblYIU9l2"
      },
      "source": [
        "###Oversampling"
      ]
    },
    {
      "cell_type": "code",
      "metadata": {
        "colab_type": "code",
        "id": "HdhhMtDZU9l-",
        "colab": {}
      },
      "source": [
        "class1=dataset1[dataset1['overall']==1]\n",
        "class2=dataset1[dataset1['overall']==2]\n",
        "class3=dataset1[dataset1['overall']==3]"
      ],
      "execution_count": 0,
      "outputs": []
    },
    {
      "cell_type": "code",
      "metadata": {
        "colab_type": "code",
        "id": "ZeiHm7FXU9mJ",
        "colab": {}
      },
      "source": [
        "class1_new=class1\n",
        "class2_new=class2\n",
        "class3_new=class3\n",
        "\n",
        "for i in range(8):\n",
        "  class1_new=pd.concat([class1_new,class1])\n",
        "\n",
        "for i in range(5):\n",
        "  class2_new=pd.concat([class2_new,class2])\n",
        "  \n",
        "for i in range(2):\n",
        "  class3_new=pd.concat([class3_new,class3])\n",
        "  \n",
        "dataset1=pd.concat([dataset1,class1_new,class2_new,class3_new])"
      ],
      "execution_count": 0,
      "outputs": []
    },
    {
      "cell_type": "code",
      "metadata": {
        "colab_type": "code",
        "outputId": "872a42f2-472e-4d2e-9602-c0794d8fae03",
        "id": "2gX5-wLMU9mR",
        "colab": {
          "base_uri": "https://localhost:8080/",
          "height": 299
        }
      },
      "source": [
        "sns.countplot(dataset1['overall'])"
      ],
      "execution_count": 11,
      "outputs": [
        {
          "output_type": "execute_result",
          "data": {
            "text/plain": [
              "<matplotlib.axes._subplots.AxesSubplot at 0x7fc9bf1d3a20>"
            ]
          },
          "metadata": {
            "tags": []
          },
          "execution_count": 11
        },
        {
          "output_type": "display_data",
          "data": {
            "image/png": "[encoded data removed]",
            "text/plain": [
              "<Figure size 432x288 with 1 Axes>"
            ]
          },
          "metadata": {
            "tags": []
          }
        }
      ]
    },
    {
      "cell_type": "markdown",
      "metadata": {
        "id": "0dOd9XpauD_E",
        "colab_type": "text"
      },
      "source": [
        "##Dataset 2"
      ]
    },
    {
      "cell_type": "code",
      "metadata": {
        "id": "B_JPvKoFt0Lp",
        "colab_type": "code",
        "outputId": "e0116bf4-0a74-4053-afc4-d0aaf1d382db",
        "colab": {
          "base_uri": "https://localhost:8080/",
          "height": 197
        }
      },
      "source": [
        "dataset2=pd.read_json('https://raw.githubusercontent.com/AnirbanMukherjeeXD/amazon-sentiment-analysis/master/dataset/Musical_Instruments_5.json?token=AIJPU64JB3LPJO2NWXOHZF25IELI6',lines=True).loc[:,['overall','reviewText']]\n",
        "dataset2.head()"
      ],
      "execution_count": 12,
      "outputs": [
        {
          "output_type": "execute_result",
          "data": {
            "text/html": [
              "<div>\n",
              "<style scoped>\n",
              "    .dataframe tbody tr th:only-of-type {\n",
              "        vertical-align: middle;\n",
              "    }\n",
              "\n",
              "    .dataframe tbody tr th {\n",
              "        vertical-align: top;\n",
              "    }\n",
              "\n",
              "    .dataframe thead th {\n",
              "        text-align: right;\n",
              "    }\n",
              "</style>\n",
              "<table border=\"1\" class=\"dataframe\">\n",
              "  <thead>\n",
              "    <tr style=\"text-align: right;\">\n",
              "      <th></th>\n",
              "      <th>overall</th>\n",
              "      <th>reviewText</th>\n",
              "    </tr>\n",
              "  </thead>\n",
              "  <tbody>\n",
              "    <tr>\n",
              "      <th>0</th>\n",
              "      <td>5</td>\n",
              "      <td>Not much to write about here, but it does exac...</td>\n",
              "    </tr>\n",
              "    <tr>\n",
              "      <th>1</th>\n",
              "      <td>5</td>\n",
              "      <td>The product does exactly as it should and is q...</td>\n",
              "    </tr>\n",
              "    <tr>\n",
              "      <th>2</th>\n",
              "      <td>5</td>\n",
              "      <td>The primary job of this device is to block the...</td>\n",
              "    </tr>\n",
              "    <tr>\n",
              "      <th>3</th>\n",
              "      <td>5</td>\n",
              "      <td>Nice windscreen protects my MXL mic and preven...</td>\n",
              "    </tr>\n",
              "    <tr>\n",
              "      <th>4</th>\n",
              "      <td>5</td>\n",
              "      <td>This pop filter is great. It looks and perform...</td>\n",
              "    </tr>\n",
              "  </tbody>\n",
              "</table>\n",
              "</div>"
            ],
            "text/plain": [
              "   overall                                         reviewText\n",
              "0        5  Not much to write about here, but it does exac...\n",
              "1        5  The product does exactly as it should and is q...\n",
              "2        5  The primary job of this device is to block the...\n",
              "3        5  Nice windscreen protects my MXL mic and preven...\n",
              "4        5  This pop filter is great. It looks and perform..."
            ]
          },
          "metadata": {
            "tags": []
          },
          "execution_count": 12
        }
      ]
    },
    {
      "cell_type": "code",
      "metadata": {
        "id": "TXQ6Xp1fkvGZ",
        "colab_type": "code",
        "outputId": "ef892922-d407-4557-ed64-c7b56e630386",
        "colab": {
          "base_uri": "https://localhost:8080/",
          "height": 385
        }
      },
      "source": [
        "sns.countplot(dataset2['overall'])\n",
        "pd.Series(dataset2['overall']).value_counts()*100/pd.Series(dataset2['overall']).count()"
      ],
      "execution_count": 13,
      "outputs": [
        {
          "output_type": "execute_result",
          "data": {
            "text/plain": [
              "5    67.615242\n",
              "4    20.309911\n",
              "3     7.523633\n",
              "2     2.436410\n",
              "1     2.114804\n",
              "Name: overall, dtype: float64"
            ]
          },
          "metadata": {
            "tags": []
          },
          "execution_count": 13
        },
        {
          "output_type": "display_data",
          "data": {
            "image/png": "[encoded data removed]",
            "text/plain": [
              "<Figure size 432x288 with 1 Axes>"
            ]
          },
          "metadata": {
            "tags": []
          }
        }
      ]
    },
    {
      "cell_type": "markdown",
      "metadata": {
        "id": "NFHMxPyJEIC7",
        "colab_type": "text"
      },
      "source": [
        "###Oversampling"
      ]
    },
    {
      "cell_type": "code",
      "metadata": {
        "id": "en3DWNBnuMVp",
        "colab_type": "code",
        "colab": {}
      },
      "source": [
        "class1=dataset2[dataset2['overall']==1]\n",
        "class2=dataset2[dataset2['overall']==2]\n",
        "class3=dataset2[dataset2['overall']==3]"
      ],
      "execution_count": 0,
      "outputs": []
    },
    {
      "cell_type": "code",
      "metadata": {
        "id": "sro1YEuRvmqr",
        "colab_type": "code",
        "colab": {}
      },
      "source": [
        "class1_new=class1\n",
        "class2_new=class2\n",
        "class3_new=class3\n",
        "\n",
        "for i in range(8):\n",
        "  class1_new=pd.concat([class1_new,class1])\n",
        "\n",
        "for i in range(5):\n",
        "  class2_new=pd.concat([class2_new,class2])\n",
        "  \n",
        "for i in range(2):\n",
        "  class3_new=pd.concat([class3_new,class3])\n",
        "  \n",
        "dataset2=pd.concat([dataset2,class1_new,class2_new,class3_new])"
      ],
      "execution_count": 0,
      "outputs": []
    },
    {
      "cell_type": "code",
      "metadata": {
        "id": "bZPBuvf4wqTE",
        "colab_type": "code",
        "outputId": "a9a7b743-e802-4a97-8242-9a03b53f0995",
        "colab": {
          "base_uri": "https://localhost:8080/",
          "height": 299
        }
      },
      "source": [
        "sns.countplot(dataset2['overall'])"
      ],
      "execution_count": 16,
      "outputs": [
        {
          "output_type": "execute_result",
          "data": {
            "text/plain": [
              "<matplotlib.axes._subplots.AxesSubplot at 0x7fc9bf045cf8>"
            ]
          },
          "metadata": {
            "tags": []
          },
          "execution_count": 16
        },
        {
          "output_type": "display_data",
          "data": {
            "image/png": "[encoded data removed]",
            "text/plain": [
              "<Figure size 432x288 with 1 Axes>"
            ]
          },
          "metadata": {
            "tags": []
          }
        }
      ]
    },
    {
      "cell_type": "markdown",
      "metadata": {
        "id": "5bhegQayyngK",
        "colab_type": "text"
      },
      "source": [
        "#Preprocessing"
      ]
    },
    {
      "cell_type": "code",
      "metadata": {
        "id": "9ldvQz8gyo8i",
        "colab_type": "code",
        "colab": {
          "base_uri": "https://localhost:8080/",
          "height": 34
        },
        "outputId": "9e19e2bf-15a3-43b2-a16d-8aff13b645be"
      },
      "source": [
        "from keras.preprocessing.text import Tokenizer\n",
        "from keras.preprocessing.sequence import pad_sequences\n",
        "from keras.utils import to_categorical\n",
        "from sklearn.model_selection import train_test_split"
      ],
      "execution_count": 6,
      "outputs": [
        {
          "output_type": "stream",
          "text": [
            "Using TensorFlow backend.\n"
          ],
          "name": "stderr"
        }
      ]
    },
    {
      "cell_type": "code",
      "metadata": {
        "id": "WckzP5kwzc5M",
        "colab_type": "code",
        "colab": {}
      },
      "source": [
        "X1=dataset1['reviewText'].values\n",
        "Y1=dataset1['overall'].values"
      ],
      "execution_count": 0,
      "outputs": []
    },
    {
      "cell_type": "code",
      "metadata": {
        "id": "E20mRmmfzsWI",
        "colab_type": "code",
        "colab": {}
      },
      "source": [
        "tokenizer = Tokenizer(num_words=2500,split=' ')\n",
        "tokenizer.fit_on_texts(X1)\n",
        "X1 = tokenizer.texts_to_sequences(X1)\n",
        "X1 = pad_sequences(X1)\n",
        "\n",
        "Y1=Y1-1\n",
        "Y1 = to_categorical(Y1)\n",
        "\n",
        "X_train1, X_test1, Y_train1, Y_test1 = train_test_split(X1,Y1,train_size=0.8)"
      ],
      "execution_count": 0,
      "outputs": []
    },
    {
      "cell_type": "code",
      "metadata": {
        "id": "UGO1XqJTBMr1",
        "colab_type": "code",
        "colab": {}
      },
      "source": [
        "X2=dataset2['reviewText'].values\n",
        "Y2=dataset2['overall'].values"
      ],
      "execution_count": 0,
      "outputs": []
    },
    {
      "cell_type": "code",
      "metadata": {
        "id": "3m-43HBRnoGY",
        "colab_type": "code",
        "colab": {}
      },
      "source": [
        "tokenizer = Tokenizer(num_words=2500,split=' ')\n",
        "tokenizer.fit_on_texts(X2)\n",
        "X2 = tokenizer.texts_to_sequences(X2)\n",
        "X2 = pad_sequences(X2)\n",
        "\n",
        "Y2=Y2-1\n",
        "Y2 = to_categorical(Y2)\n",
        "\n",
        "X_train2, X_test2, Y_train2, Y_test2 = train_test_split(X2,Y2,train_size=0.8)"
      ],
      "execution_count": 0,
      "outputs": []
    },
    {
      "cell_type": "markdown",
      "metadata": {
        "id": "09p9_xniyE-P",
        "colab_type": "text"
      },
      "source": [
        "#Models"
      ]
    },
    {
      "cell_type": "code",
      "metadata": {
        "id": "fKr0_RUtoxbe",
        "colab_type": "code",
        "colab": {}
      },
      "source": [
        "import keras \n",
        "from keras.layers import Embedding, SimpleRNN, LSTM, Bidirectional, Dense, GRU\n",
        "from keras.models import Sequential"
      ],
      "execution_count": 0,
      "outputs": []
    },
    {
      "cell_type": "markdown",
      "metadata": {
        "id": "c1W_1nrwFjbL",
        "colab_type": "text"
      },
      "source": [
        "##Simple RNN 1"
      ]
    },
    {
      "cell_type": "code",
      "metadata": {
        "id": "GvX8TfvgEeHM",
        "colab_type": "code",
        "outputId": "05ff4b7a-5a76-41ee-8e69-55d3b6cd3074",
        "colab": {
          "base_uri": "https://localhost:8080/",
          "height": 552
        }
      },
      "source": [
        "model = Sequential()\n",
        "model.add(Embedding(2500,128,input_length=X1.shape[1],dropout=0.2))\n",
        "model.add(SimpleRNN((30), dropout_U=0.2,dropout_W=0.2))\n",
        "model.add(Dense(5,activation='softmax'))\n",
        "model.compile(loss=keras.losses.categorical_crossentropy,optimizer='adam',metrics=['accuracy'])\n",
        "model.summary()"
      ],
      "execution_count": 0,
      "outputs": [
        {
          "output_type": "stream",
          "text": [
            "WARNING: Logging before flag parsing goes to stderr.\n",
            "W0728 10:38:26.274652 140410360817536 deprecation_wrapper.py:119] From /usr/local/lib/python3.6/dist-packages/keras/backend/tensorflow_backend.py:74: The name tf.get_default_graph is deprecated. Please use tf.compat.v1.get_default_graph instead.\n",
            "\n",
            "W0728 10:38:26.317338 140410360817536 deprecation_wrapper.py:119] From /usr/local/lib/python3.6/dist-packages/keras/backend/tensorflow_backend.py:517: The name tf.placeholder is deprecated. Please use tf.compat.v1.placeholder instead.\n",
            "\n",
            "W0728 10:38:26.324602 140410360817536 deprecation_wrapper.py:119] From /usr/local/lib/python3.6/dist-packages/keras/backend/tensorflow_backend.py:4138: The name tf.random_uniform is deprecated. Please use tf.random.uniform instead.\n",
            "\n",
            "W0728 10:38:26.397251 140410360817536 deprecation_wrapper.py:119] From /usr/local/lib/python3.6/dist-packages/keras/backend/tensorflow_backend.py:133: The name tf.placeholder_with_default is deprecated. Please use tf.compat.v1.placeholder_with_default instead.\n",
            "\n",
            "W0728 10:38:26.404360 140410360817536 deprecation.py:506] From /usr/local/lib/python3.6/dist-packages/keras/backend/tensorflow_backend.py:3445: calling dropout (from tensorflow.python.ops.nn_ops) with keep_prob is deprecated and will be removed in a future version.\n",
            "Instructions for updating:\n",
            "Please use `rate` instead of `keep_prob`. Rate should be set to `rate = 1 - keep_prob`.\n",
            "W0728 10:38:26.501651 140410360817536 deprecation_wrapper.py:119] From /usr/local/lib/python3.6/dist-packages/keras/optimizers.py:790: The name tf.train.Optimizer is deprecated. Please use tf.compat.v1.train.Optimizer instead.\n",
            "\n",
            "W0728 10:38:26.521853 140410360817536 deprecation_wrapper.py:119] From /usr/local/lib/python3.6/dist-packages/keras/backend/tensorflow_backend.py:3295: The name tf.log is deprecated. Please use tf.math.log instead.\n",
            "\n"
          ],
          "name": "stderr"
        },
        {
          "output_type": "stream",
          "text": [
            "_________________________________________________________________\n",
            "Layer (type)                 Output Shape              Param #   \n",
            "=================================================================\n",
            "embedding_1 (Embedding)      (None, 2488, 128)         320000    \n",
            "_________________________________________________________________\n",
            "simple_rnn_1 (SimpleRNN)     (None, 30)                4770      \n",
            "_________________________________________________________________\n",
            "dense_1 (Dense)              (None, 5)                 155       \n",
            "=================================================================\n",
            "Total params: 324,925\n",
            "Trainable params: 324,925\n",
            "Non-trainable params: 0\n",
            "_________________________________________________________________\n"
          ],
          "name": "stdout"
        }
      ]
    },
    {
      "cell_type": "code",
      "metadata": {
        "id": "pn8_9QlzFiZF",
        "colab_type": "code",
        "outputId": "18b2c240-30e1-4031-fe59-0e9d21b04622",
        "colab": {
          "base_uri": "https://localhost:8080/",
          "height": 464
        }
      },
      "source": [
        "history=model.fit(X_train1,Y_train1,epochs=10,validation_data=(X_test1,Y_test1),batch_size=500)"
      ],
      "execution_count": 0,
      "outputs": [
        {
          "output_type": "stream",
          "text": [
            "W0728 10:38:28.921906 140410360817536 deprecation.py:323] From /usr/local/lib/python3.6/dist-packages/tensorflow/python/ops/math_grad.py:1250: add_dispatch_support.<locals>.wrapper (from tensorflow.python.ops.array_ops) is deprecated and will be removed in a future version.\n",
            "Instructions for updating:\n",
            "Use tf.where in 2.0, which has the same broadcast rule as np.where\n"
          ],
          "name": "stderr"
        },
        {
          "output_type": "stream",
          "text": [
            "Train on 29700 samples, validate on 7426 samples\n",
            "Epoch 1/10\n",
            "29700/29700 [==============================] - 98s 3ms/step - loss: 1.5572 - acc: 0.3130 - val_loss: 1.2656 - val_acc: 0.5656\n",
            "Epoch 2/10\n",
            "29700/29700 [==============================] - 91s 3ms/step - loss: 1.3845 - acc: 0.4463 - val_loss: 1.1979 - val_acc: 0.5654\n",
            "Epoch 3/10\n",
            "29700/29700 [==============================] - 89s 3ms/step - loss: 1.2786 - acc: 0.5223 - val_loss: 1.1839 - val_acc: 0.5657\n",
            "Epoch 4/10\n",
            "29700/29700 [==============================] - 90s 3ms/step - loss: 1.2323 - acc: 0.5425 - val_loss: 1.1791 - val_acc: 0.5667\n",
            "Epoch 5/10\n",
            "29700/29700 [==============================] - 89s 3ms/step - loss: 1.2166 - acc: 0.5495 - val_loss: 1.1765 - val_acc: 0.5671\n",
            "Epoch 6/10\n",
            "29700/29700 [==============================] - 89s 3ms/step - loss: 1.1990 - acc: 0.5535 - val_loss: 1.1738 - val_acc: 0.5676\n",
            "Epoch 7/10\n",
            "29700/29700 [==============================] - 90s 3ms/step - loss: 1.1975 - acc: 0.5541 - val_loss: 1.1715 - val_acc: 0.5672\n",
            "Epoch 8/10\n",
            "29700/29700 [==============================] - 89s 3ms/step - loss: 1.1983 - acc: 0.5548 - val_loss: 1.1880 - val_acc: 0.5673\n",
            "Epoch 9/10\n",
            "29700/29700 [==============================] - 89s 3ms/step - loss: 1.1838 - acc: 0.5595 - val_loss: 1.1818 - val_acc: 0.5671\n",
            "Epoch 10/10\n",
            "29700/29700 [==============================] - 89s 3ms/step - loss: 1.1739 - acc: 0.5592 - val_loss: 1.1787 - val_acc: 0.5667\n"
          ],
          "name": "stdout"
        }
      ]
    },
    {
      "cell_type": "code",
      "metadata": {
        "id": "zR6DqGQaIrhR",
        "colab_type": "code",
        "outputId": "65d78fa6-4192-4612-88fe-d26e168cc59a",
        "colab": {
          "base_uri": "https://localhost:8080/",
          "height": 286
        }
      },
      "source": [
        "plt.plot(history.history['acc'])\n",
        "plt.plot(history.history['val_acc'])"
      ],
      "execution_count": 0,
      "outputs": [
        {
          "output_type": "execute_result",
          "data": {
            "text/plain": [
              "[<matplotlib.lines.Line2D at 0x7f31b1abd780>]"
            ]
          },
          "metadata": {
            "tags": []
          },
          "execution_count": 76
        },
        {
          "output_type": "display_data",
          "data": {
            "image/png": "[encoded data removed]",
            "text/plain": [
              "<Figure size 432x288 with 1 Axes>"
            ]
          },
          "metadata": {
            "tags": []
          }
        }
      ]
    },
    {
      "cell_type": "code",
      "metadata": {
        "id": "3K8ahlKII0Al",
        "colab_type": "code",
        "outputId": "314b736f-84f6-4f5a-98d1-c5a85e5ef8a9",
        "colab": {
          "base_uri": "https://localhost:8080/",
          "height": 286
        }
      },
      "source": [
        "plt.plot(history.history['loss'])\n",
        "plt.plot(history.history['val_loss'])"
      ],
      "execution_count": 0,
      "outputs": [
        {
          "output_type": "execute_result",
          "data": {
            "text/plain": [
              "[<matplotlib.lines.Line2D at 0x7f31b1abdda0>]"
            ]
          },
          "metadata": {
            "tags": []
          },
          "execution_count": 77
        },
        {
          "output_type": "display_data",
          "data": {
            "image/png": "[encoded data removed]",
            "text/plain": [
              "<Figure size 432x288 with 1 Axes>"
            ]
          },
          "metadata": {
            "tags": []
          }
        }
      ]
    },
    {
      "cell_type": "markdown",
      "metadata": {
        "id": "eaHbUFalseeO",
        "colab_type": "text"
      },
      "source": [
        "##Simple RNN 2"
      ]
    },
    {
      "cell_type": "code",
      "metadata": {
        "id": "muBXbE_ksdzK",
        "colab_type": "code",
        "outputId": "9f8ff913-790a-4ee5-f17b-c308957c22a6",
        "colab": {
          "base_uri": "https://localhost:8080/",
          "height": 235
        }
      },
      "source": [
        "model = Sequential()\n",
        "model.add(Embedding(2500,128,input_length=X2.shape[1],dropout=0.2))\n",
        "model.add(SimpleRNN((30), dropout_U=0.2,dropout_W=0.2))\n",
        "model.add(Dense(5,activation='softmax'))\n",
        "model.compile(loss=keras.losses.categorical_crossentropy,optimizer='adam',metrics=['accuracy'])\n",
        "model.summary()"
      ],
      "execution_count": 0,
      "outputs": [
        {
          "output_type": "stream",
          "text": [
            "_________________________________________________________________\n",
            "Layer (type)                 Output Shape              Param #   \n",
            "=================================================================\n",
            "embedding_2 (Embedding)      (None, 1844, 128)         320000    \n",
            "_________________________________________________________________\n",
            "simple_rnn_2 (SimpleRNN)     (None, 30)                4770      \n",
            "_________________________________________________________________\n",
            "dense_2 (Dense)              (None, 5)                 155       \n",
            "=================================================================\n",
            "Total params: 324,925\n",
            "Trainable params: 324,925\n",
            "Non-trainable params: 0\n",
            "_________________________________________________________________\n"
          ],
          "name": "stdout"
        }
      ]
    },
    {
      "cell_type": "code",
      "metadata": {
        "id": "Ln4vK0_0slrw",
        "colab_type": "code",
        "outputId": "2469afd1-73ba-48ca-a7dd-efbaa165dc70",
        "colab": {
          "base_uri": "https://localhost:8080/",
          "height": 370
        }
      },
      "source": [
        "history=model.fit(X_train2,Y_train2,epochs=10,validation_data=(X_test2,Y_test2),batch_size=500)"
      ],
      "execution_count": 0,
      "outputs": [
        {
          "output_type": "stream",
          "text": [
            "Train on 8208 samples, validate on 2053 samples\n",
            "Epoch 1/10\n",
            "8208/8208 [==============================] - 22s 3ms/step - loss: 1.6353 - acc: 0.2607 - val_loss: 1.4276 - val_acc: 0.5626\n",
            "Epoch 2/10\n",
            "8208/8208 [==============================] - 21s 3ms/step - loss: 1.5387 - acc: 0.3349 - val_loss: 1.2975 - val_acc: 0.6620\n",
            "Epoch 3/10\n",
            "8208/8208 [==============================] - 21s 3ms/step - loss: 1.3966 - acc: 0.4560 - val_loss: 1.2122 - val_acc: 0.6693\n",
            "Epoch 4/10\n",
            "8208/8208 [==============================] - 22s 3ms/step - loss: 1.2999 - acc: 0.5320 - val_loss: 1.1281 - val_acc: 0.6717\n",
            "Epoch 5/10\n",
            "8208/8208 [==============================] - 21s 3ms/step - loss: 1.2125 - acc: 0.5832 - val_loss: 1.0575 - val_acc: 0.6707\n",
            "Epoch 6/10\n",
            "8208/8208 [==============================] - 21s 3ms/step - loss: 1.1481 - acc: 0.6156 - val_loss: 1.0180 - val_acc: 0.6707\n",
            "Epoch 7/10\n",
            "8208/8208 [==============================] - 21s 3ms/step - loss: 1.0930 - acc: 0.6332 - val_loss: 0.9965 - val_acc: 0.6712\n",
            "Epoch 8/10\n",
            "8208/8208 [==============================] - 22s 3ms/step - loss: 1.0542 - acc: 0.6458 - val_loss: 0.9840 - val_acc: 0.6717\n",
            "Epoch 9/10\n",
            "8208/8208 [==============================] - 22s 3ms/step - loss: 1.0287 - acc: 0.6494 - val_loss: 0.9764 - val_acc: 0.6717\n",
            "Epoch 10/10\n",
            "8208/8208 [==============================] - 23s 3ms/step - loss: 1.0023 - acc: 0.6592 - val_loss: 0.9724 - val_acc: 0.6717\n"
          ],
          "name": "stdout"
        }
      ]
    },
    {
      "cell_type": "code",
      "metadata": {
        "id": "MGalTny8vX2d",
        "colab_type": "code",
        "outputId": "12128a17-9fd5-4b67-c73c-6324c907e25d",
        "colab": {
          "base_uri": "https://localhost:8080/",
          "height": 286
        }
      },
      "source": [
        "plt.plot(history.history['acc'])\n",
        "plt.plot(history.history['val_acc'])"
      ],
      "execution_count": 0,
      "outputs": [
        {
          "output_type": "execute_result",
          "data": {
            "text/plain": [
              "[<matplotlib.lines.Line2D at 0x7f31b1c2ab38>]"
            ]
          },
          "metadata": {
            "tags": []
          },
          "execution_count": 80
        },
        {
          "output_type": "display_data",
          "data": {
            "image/png": "[encoded data removed]",
            "text/plain": [
              "<Figure size 432x288 with 1 Axes>"
            ]
          },
          "metadata": {
            "tags": []
          }
        }
      ]
    },
    {
      "cell_type": "code",
      "metadata": {
        "id": "qWp9cs3ovdxB",
        "colab_type": "code",
        "outputId": "079941d3-b0c0-4949-9ab1-2bce6bd414ed",
        "colab": {
          "base_uri": "https://localhost:8080/",
          "height": 286
        }
      },
      "source": [
        "plt.plot(history.history['loss'])\n",
        "plt.plot(history.history['val_loss'])"
      ],
      "execution_count": 0,
      "outputs": [
        {
          "output_type": "execute_result",
          "data": {
            "text/plain": [
              "[<matplotlib.lines.Line2D at 0x7f31b1e44278>]"
            ]
          },
          "metadata": {
            "tags": []
          },
          "execution_count": 81
        },
        {
          "output_type": "display_data",
          "data": {
            "image/png": "[encoded data removed]",
            "text/plain": [
              "<Figure size 432x288 with 1 Axes>"
            ]
          },
          "metadata": {
            "tags": []
          }
        }
      ]
    },
    {
      "cell_type": "markdown",
      "metadata": {
        "id": "KuKi1IcmRUJ_",
        "colab_type": "text"
      },
      "source": [
        "##GRU 1"
      ]
    },
    {
      "cell_type": "code",
      "metadata": {
        "id": "RAlHlspORWnA",
        "colab_type": "code",
        "outputId": "09b0e158-41b1-4a7f-b23d-d90c2bac492a",
        "colab": {
          "base_uri": "https://localhost:8080/",
          "height": 235
        }
      },
      "source": [
        "model = Sequential()\n",
        "model.add(Embedding(2500,128,input_length=X1.shape[1],dropout=0.2))\n",
        "model.add(GRU(30, dropout_U=0.2,dropout_W=0.2))\n",
        "model.add(Dense(5,activation='softmax'))\n",
        "model.compile(loss=keras.losses.categorical_crossentropy,optimizer='adam',metrics=['accuracy'])\n",
        "model.summary()"
      ],
      "execution_count": 0,
      "outputs": [
        {
          "output_type": "stream",
          "text": [
            "_________________________________________________________________\n",
            "Layer (type)                 Output Shape              Param #   \n",
            "=================================================================\n",
            "embedding_3 (Embedding)      (None, 2488, 128)         320000    \n",
            "_________________________________________________________________\n",
            "gru_2 (GRU)                  (None, 30)                14310     \n",
            "_________________________________________________________________\n",
            "dense_3 (Dense)              (None, 5)                 155       \n",
            "=================================================================\n",
            "Total params: 334,465\n",
            "Trainable params: 334,465\n",
            "Non-trainable params: 0\n",
            "_________________________________________________________________\n"
          ],
          "name": "stdout"
        }
      ]
    },
    {
      "cell_type": "code",
      "metadata": {
        "id": "ot8KGOHERev5",
        "colab_type": "code",
        "outputId": "be48d4c2-e293-49f3-b20d-b051e8db8bb8",
        "colab": {
          "base_uri": "https://localhost:8080/",
          "height": 370
        }
      },
      "source": [
        "history=model.fit(X_train1,Y_train1,epochs=10,validation_data=(X_test1,Y_test1),batch_size=500)"
      ],
      "execution_count": 0,
      "outputs": [
        {
          "output_type": "stream",
          "text": [
            "Train on 29700 samples, validate on 7426 samples\n",
            "Epoch 1/10\n",
            "29700/29700 [==============================] - 115s 4ms/step - loss: 1.4100 - acc: 0.5381 - val_loss: 1.2043 - val_acc: 0.5545\n",
            "Epoch 2/10\n",
            "29700/29700 [==============================] - 114s 4ms/step - loss: 1.1574 - acc: 0.5649 - val_loss: 1.1513 - val_acc: 0.5553\n",
            "Epoch 3/10\n",
            "29700/29700 [==============================] - 115s 4ms/step - loss: 1.1021 - acc: 0.5686 - val_loss: 1.1151 - val_acc: 0.5603\n",
            "Epoch 4/10\n",
            "29700/29700 [==============================] - 117s 4ms/step - loss: 1.0504 - acc: 0.5798 - val_loss: 1.0617 - val_acc: 0.5654\n",
            "Epoch 5/10\n",
            "29700/29700 [==============================] - 116s 4ms/step - loss: 1.0066 - acc: 0.5982 - val_loss: 1.0390 - val_acc: 0.5745\n",
            "Epoch 6/10\n",
            "29700/29700 [==============================] - 116s 4ms/step - loss: 0.9651 - acc: 0.6141 - val_loss: 1.0183 - val_acc: 0.5788\n",
            "Epoch 7/10\n",
            "29700/29700 [==============================] - 116s 4ms/step - loss: 0.9228 - acc: 0.6280 - val_loss: 0.9914 - val_acc: 0.5904\n",
            "Epoch 8/10\n",
            "29700/29700 [==============================] - 116s 4ms/step - loss: 0.8964 - acc: 0.6374 - val_loss: 0.9853 - val_acc: 0.5918\n",
            "Epoch 9/10\n",
            "29700/29700 [==============================] - 116s 4ms/step - loss: 0.8695 - acc: 0.6490 - val_loss: 0.9747 - val_acc: 0.5961\n",
            "Epoch 10/10\n",
            "29700/29700 [==============================] - 116s 4ms/step - loss: 0.8519 - acc: 0.6551 - val_loss: 0.9712 - val_acc: 0.6021\n"
          ],
          "name": "stdout"
        }
      ]
    },
    {
      "cell_type": "code",
      "metadata": {
        "id": "Z7MFfiQLEbOa",
        "colab_type": "code",
        "outputId": "613d0699-2d0d-466d-f596-10e4ed56f891",
        "colab": {
          "base_uri": "https://localhost:8080/",
          "height": 286
        }
      },
      "source": [
        "plt.plot(history.history['acc'])\n",
        "plt.plot(history.history['val_acc'])"
      ],
      "execution_count": 0,
      "outputs": [
        {
          "output_type": "execute_result",
          "data": {
            "text/plain": [
              "[<matplotlib.lines.Line2D at 0x7f4f2015e908>]"
            ]
          },
          "metadata": {
            "tags": []
          },
          "execution_count": 20
        },
        {
          "output_type": "display_data",
          "data": {
            "image/png": "[encoded data removed]",
            "text/plain": [
              "<Figure size 432x288 with 1 Axes>"
            ]
          },
          "metadata": {
            "tags": []
          }
        }
      ]
    },
    {
      "cell_type": "code",
      "metadata": {
        "id": "I8U7JiUdTfni",
        "colab_type": "code",
        "outputId": "3be81c08-e3a7-4ee0-f51f-25dc35688bd5",
        "colab": {
          "base_uri": "https://localhost:8080/",
          "height": 286
        }
      },
      "source": [
        "plt.plot(history.history['loss'])\n",
        "plt.plot(history.history['val_loss'])"
      ],
      "execution_count": 0,
      "outputs": [
        {
          "output_type": "execute_result",
          "data": {
            "text/plain": [
              "[<matplotlib.lines.Line2D at 0x7f4f26f9d208>]"
            ]
          },
          "metadata": {
            "tags": []
          },
          "execution_count": 19
        },
        {
          "output_type": "display_data",
          "data": {
            "image/png": "[encoded data removed]",
            "text/plain": [
              "<Figure size 432x288 with 1 Axes>"
            ]
          },
          "metadata": {
            "tags": []
          }
        }
      ]
    },
    {
      "cell_type": "markdown",
      "metadata": {
        "id": "RkSd3T8E2NCp",
        "colab_type": "text"
      },
      "source": [
        "##GRU 2"
      ]
    },
    {
      "cell_type": "code",
      "metadata": {
        "id": "v7_evKAI2Oay",
        "colab_type": "code",
        "outputId": "b48fbbcf-e900-4b66-fa33-0ef281c6bcbe",
        "colab": {
          "base_uri": "https://localhost:8080/",
          "height": 235
        }
      },
      "source": [
        "model = Sequential()\n",
        "model.add(Embedding(2500,128,input_length=X2.shape[1],dropout=0.2))\n",
        "model.add(GRU(30, dropout_U=0.2,dropout_W=0.2))\n",
        "model.add(Dense(5,activation='softmax'))\n",
        "model.compile(loss=keras.losses.categorical_crossentropy,optimizer='adam',metrics=['accuracy'])\n",
        "model.summary()"
      ],
      "execution_count": 0,
      "outputs": [
        {
          "output_type": "stream",
          "text": [
            "_________________________________________________________________\n",
            "Layer (type)                 Output Shape              Param #   \n",
            "=================================================================\n",
            "embedding_5 (Embedding)      (None, 1844, 128)         320000    \n",
            "_________________________________________________________________\n",
            "gru_4 (GRU)                  (None, 30)                14310     \n",
            "_________________________________________________________________\n",
            "dense_5 (Dense)              (None, 5)                 155       \n",
            "=================================================================\n",
            "Total params: 334,465\n",
            "Trainable params: 334,465\n",
            "Non-trainable params: 0\n",
            "_________________________________________________________________\n"
          ],
          "name": "stdout"
        }
      ]
    },
    {
      "cell_type": "code",
      "metadata": {
        "id": "tSZ3OWcFE5IT",
        "colab_type": "code",
        "outputId": "76e3319f-d550-4101-c9a5-02463ff38e99",
        "colab": {
          "base_uri": "https://localhost:8080/",
          "height": 370
        }
      },
      "source": [
        "history=model.fit(X_train2,Y_train2,epochs=10,validation_data=(X_test2,Y_test2),batch_size=500)"
      ],
      "execution_count": 0,
      "outputs": [
        {
          "output_type": "stream",
          "text": [
            "Train on 8208 samples, validate on 2053 samples\n",
            "Epoch 1/10\n",
            "8208/8208 [==============================] - 19s 2ms/step - loss: 1.5878 - acc: 0.4206 - val_loss: 1.5461 - val_acc: 0.6634\n",
            "Epoch 2/10\n",
            "8208/8208 [==============================] - 17s 2ms/step - loss: 1.5107 - acc: 0.6773 - val_loss: 1.4551 - val_acc: 0.6712\n",
            "Epoch 3/10\n",
            "8208/8208 [==============================] - 17s 2ms/step - loss: 1.4005 - acc: 0.6775 - val_loss: 1.3245 - val_acc: 0.6712\n",
            "Epoch 4/10\n",
            "8208/8208 [==============================] - 17s 2ms/step - loss: 1.2482 - acc: 0.6774 - val_loss: 1.1569 - val_acc: 0.6712\n",
            "Epoch 5/10\n",
            "8208/8208 [==============================] - 17s 2ms/step - loss: 1.0754 - acc: 0.6774 - val_loss: 1.0142 - val_acc: 0.6712\n",
            "Epoch 6/10\n",
            "8208/8208 [==============================] - 17s 2ms/step - loss: 0.9702 - acc: 0.6774 - val_loss: 0.9864 - val_acc: 0.6712\n",
            "Epoch 7/10\n",
            "8208/8208 [==============================] - 17s 2ms/step - loss: 0.9462 - acc: 0.6774 - val_loss: 0.9598 - val_acc: 0.6712\n",
            "Epoch 8/10\n",
            "8208/8208 [==============================] - 17s 2ms/step - loss: 0.9139 - acc: 0.6776 - val_loss: 0.9496 - val_acc: 0.6712\n",
            "Epoch 9/10\n",
            "8208/8208 [==============================] - 18s 2ms/step - loss: 0.9029 - acc: 0.6787 - val_loss: 0.9460 - val_acc: 0.6707\n",
            "Epoch 10/10\n",
            "8208/8208 [==============================] - 17s 2ms/step - loss: 0.8858 - acc: 0.6788 - val_loss: 0.9411 - val_acc: 0.6707\n"
          ],
          "name": "stdout"
        }
      ]
    },
    {
      "cell_type": "code",
      "metadata": {
        "id": "hiZRrNUuFts5",
        "colab_type": "code",
        "outputId": "0bdb31ee-a578-4b16-e5f0-2a341386dde2",
        "colab": {
          "base_uri": "https://localhost:8080/",
          "height": 286
        }
      },
      "source": [
        "plt.plot(history.history['acc'])\n",
        "plt.plot(history.history['val_acc'])"
      ],
      "execution_count": 0,
      "outputs": [
        {
          "output_type": "execute_result",
          "data": {
            "text/plain": [
              "[<matplotlib.lines.Line2D at 0x7f0b80ad0c18>]"
            ]
          },
          "metadata": {
            "tags": []
          },
          "execution_count": 34
        },
        {
          "output_type": "display_data",
          "data": {
            "image/png": "[encoded data removed]",
            "text/plain": [
              "<Figure size 432x288 with 1 Axes>"
            ]
          },
          "metadata": {
            "tags": []
          }
        }
      ]
    },
    {
      "cell_type": "code",
      "metadata": {
        "id": "W9eUpbwn3AoF",
        "colab_type": "code",
        "outputId": "850a5d68-891c-4d66-8580-9d3a3b9610d4",
        "colab": {
          "base_uri": "https://localhost:8080/",
          "height": 286
        }
      },
      "source": [
        "plt.plot(history.history['loss'])\n",
        "plt.plot(history.history['val_loss'])"
      ],
      "execution_count": 0,
      "outputs": [
        {
          "output_type": "execute_result",
          "data": {
            "text/plain": [
              "[<matplotlib.lines.Line2D at 0x7f0f8c502be0>]"
            ]
          },
          "metadata": {
            "tags": []
          },
          "execution_count": 26
        },
        {
          "output_type": "display_data",
          "data": {
            "image/png": "[encoded data removed]",
            "text/plain": [
              "<Figure size 432x288 with 1 Axes>"
            ]
          },
          "metadata": {
            "tags": []
          }
        }
      ]
    },
    {
      "cell_type": "markdown",
      "metadata": {
        "id": "PWOZSwCp7D4s",
        "colab_type": "text"
      },
      "source": [
        "##Simple LSTM 1"
      ]
    },
    {
      "cell_type": "code",
      "metadata": {
        "id": "llQ-liJ8yBYZ",
        "colab_type": "code",
        "outputId": "20885d8e-33b3-4983-c109-c3ac5dcbef7b",
        "colab": {
          "base_uri": "https://localhost:8080/",
          "height": 235
        }
      },
      "source": [
        "model = Sequential()\n",
        "model.add(Embedding(2500,128,input_length=X1.shape[1],dropout=0.2))\n",
        "model.add(LSTM(30, dropout_U=0.2,dropout_W=0.2))\n",
        "model.add(Dense(5,activation='softmax'))\n",
        "model.compile(loss=keras.losses.categorical_crossentropy,optimizer='adam',metrics=['accuracy'])\n",
        "model.summary()"
      ],
      "execution_count": 0,
      "outputs": [
        {
          "output_type": "stream",
          "text": [
            "_________________________________________________________________\n",
            "Layer (type)                 Output Shape              Param #   \n",
            "=================================================================\n",
            "embedding_2 (Embedding)      (None, 2488, 128)         320000    \n",
            "_________________________________________________________________\n",
            "lstm_1 (LSTM)                (None, 30)                19080     \n",
            "_________________________________________________________________\n",
            "dense_2 (Dense)              (None, 5)                 155       \n",
            "=================================================================\n",
            "Total params: 339,235\n",
            "Trainable params: 339,235\n",
            "Non-trainable params: 0\n",
            "_________________________________________________________________\n"
          ],
          "name": "stdout"
        }
      ]
    },
    {
      "cell_type": "code",
      "metadata": {
        "id": "EJdWGeT5572h",
        "colab_type": "code",
        "outputId": "54aad0f4-5b9f-4537-da13-492d06dc1468",
        "colab": {
          "base_uri": "https://localhost:8080/",
          "height": 370
        }
      },
      "source": [
        "history=model.fit(X_train1,Y_train1,epochs=10,validation_data=(X_test1,Y_test1),batch_size=500)"
      ],
      "execution_count": 0,
      "outputs": [
        {
          "output_type": "stream",
          "text": [
            "Train on 29700 samples, validate on 7426 samples\n",
            "Epoch 1/10\n",
            "29700/29700 [==============================] - 124s 4ms/step - loss: 1.4738 - acc: 0.5312 - val_loss: 1.2181 - val_acc: 0.5632\n",
            "Epoch 2/10\n",
            "29700/29700 [==============================] - 120s 4ms/step - loss: 1.1964 - acc: 0.5626 - val_loss: 1.1674 - val_acc: 0.5632\n",
            "Epoch 3/10\n",
            "29700/29700 [==============================] - 119s 4ms/step - loss: 1.1503 - acc: 0.5627 - val_loss: 1.1229 - val_acc: 0.5633\n",
            "Epoch 4/10\n",
            "29700/29700 [==============================] - 118s 4ms/step - loss: 1.0866 - acc: 0.5655 - val_loss: 1.0530 - val_acc: 0.5671\n",
            "Epoch 5/10\n",
            "29700/29700 [==============================] - 117s 4ms/step - loss: 1.0248 - acc: 0.5801 - val_loss: 1.0135 - val_acc: 0.5778\n",
            "Epoch 6/10\n",
            "29700/29700 [==============================] - 117s 4ms/step - loss: 0.9842 - acc: 0.5929 - val_loss: 0.9912 - val_acc: 0.5808\n",
            "Epoch 7/10\n",
            "29700/29700 [==============================] - 117s 4ms/step - loss: 0.9556 - acc: 0.6071 - val_loss: 0.9700 - val_acc: 0.5922\n",
            "Epoch 8/10\n",
            "29700/29700 [==============================] - 116s 4ms/step - loss: 0.9338 - acc: 0.6200 - val_loss: 0.9599 - val_acc: 0.5960\n",
            "Epoch 9/10\n",
            "29700/29700 [==============================] - 116s 4ms/step - loss: 0.9152 - acc: 0.6292 - val_loss: 0.9539 - val_acc: 0.5970\n",
            "Epoch 10/10\n",
            "29700/29700 [==============================] - 117s 4ms/step - loss: 0.8969 - acc: 0.6347 - val_loss: 0.9399 - val_acc: 0.6073\n"
          ],
          "name": "stdout"
        }
      ]
    },
    {
      "cell_type": "code",
      "metadata": {
        "colab_type": "code",
        "id": "6KPBeQI35Bji",
        "outputId": "2c1dad67-9ad3-449f-b08f-cb1f5e069c23",
        "colab": {
          "base_uri": "https://localhost:8080/",
          "height": 286
        }
      },
      "source": [
        "plt.plot(history.history['acc'])\n",
        "plt.plot(history.history['val_acc'])"
      ],
      "execution_count": 0,
      "outputs": [
        {
          "output_type": "execute_result",
          "data": {
            "text/plain": [
              "[<matplotlib.lines.Line2D at 0x7f3fba335128>]"
            ]
          },
          "metadata": {
            "tags": []
          },
          "execution_count": 34
        },
        {
          "output_type": "display_data",
          "data": {
            "image/png": "[encoded data removed]",
            "text/plain": [
              "<Figure size 432x288 with 1 Axes>"
            ]
          },
          "metadata": {
            "tags": []
          }
        }
      ]
    },
    {
      "cell_type": "code",
      "metadata": {
        "id": "cdy9wp5FBpw1",
        "colab_type": "code",
        "outputId": "b6a2ae5a-acab-4463-c08e-dc32baaa2585",
        "colab": {
          "base_uri": "https://localhost:8080/",
          "height": 286
        }
      },
      "source": [
        "plt.plot(history.history['loss'])\n",
        "plt.plot(history.history['val_loss'])"
      ],
      "execution_count": 0,
      "outputs": [
        {
          "output_type": "execute_result",
          "data": {
            "text/plain": [
              "[<matplotlib.lines.Line2D at 0x7f0566584550>]"
            ]
          },
          "metadata": {
            "tags": []
          },
          "execution_count": 21
        },
        {
          "output_type": "display_data",
          "data": {
            "image/png": "[encoded data removed]",
            "text/plain": [
              "<Figure size 432x288 with 1 Axes>"
            ]
          },
          "metadata": {
            "tags": []
          }
        }
      ]
    },
    {
      "cell_type": "markdown",
      "metadata": {
        "id": "ZNAotD-63HL8",
        "colab_type": "text"
      },
      "source": [
        "##Simple LSTM 2"
      ]
    },
    {
      "cell_type": "code",
      "metadata": {
        "id": "_RrpgkDZ3Gtm",
        "colab_type": "code",
        "outputId": "05a5b3ac-ab53-4d41-a51a-3452df83b812",
        "colab": {
          "base_uri": "https://localhost:8080/",
          "height": 235
        }
      },
      "source": [
        "model = Sequential()\n",
        "model.add(Embedding(2500,128,input_length=X2.shape[1],dropout=0.2))\n",
        "model.add(LSTM(30, dropout_U=0.2,dropout_W=0.2))\n",
        "model.add(Dense(5,activation='softmax'))\n",
        "model.compile(loss=keras.losses.categorical_crossentropy,optimizer='adam',metrics=['accuracy'])\n",
        "model.summary()"
      ],
      "execution_count": 0,
      "outputs": [
        {
          "output_type": "stream",
          "text": [
            "_________________________________________________________________\n",
            "Layer (type)                 Output Shape              Param #   \n",
            "=================================================================\n",
            "embedding_6 (Embedding)      (None, 1844, 128)         320000    \n",
            "_________________________________________________________________\n",
            "lstm_6 (LSTM)                (None, 30)                19080     \n",
            "_________________________________________________________________\n",
            "dense_6 (Dense)              (None, 5)                 155       \n",
            "=================================================================\n",
            "Total params: 339,235\n",
            "Trainable params: 339,235\n",
            "Non-trainable params: 0\n",
            "_________________________________________________________________\n"
          ],
          "name": "stdout"
        }
      ]
    },
    {
      "cell_type": "code",
      "metadata": {
        "id": "jNpCAX903xqS",
        "colab_type": "code",
        "outputId": "ff0c5456-b9c4-4b81-e83f-6da3b2d63406",
        "colab": {
          "base_uri": "https://localhost:8080/",
          "height": 370
        }
      },
      "source": [
        "history=model.fit(X_train2,Y_train2,epochs=10,validation_data=(X_test2,Y_test2),batch_size=500)"
      ],
      "execution_count": 0,
      "outputs": [
        {
          "output_type": "stream",
          "text": [
            "Train on 8208 samples, validate on 2053 samples\n",
            "Epoch 1/10\n",
            "8208/8208 [==============================] - 26s 3ms/step - loss: 1.5831 - acc: 0.5076 - val_loss: 1.5330 - val_acc: 0.6688\n",
            "Epoch 2/10\n",
            "8208/8208 [==============================] - 24s 3ms/step - loss: 1.4809 - acc: 0.6780 - val_loss: 1.3854 - val_acc: 0.6688\n",
            "Epoch 3/10\n",
            "8208/8208 [==============================] - 24s 3ms/step - loss: 1.2770 - acc: 0.6780 - val_loss: 1.1100 - val_acc: 0.6688\n",
            "Epoch 4/10\n",
            "8208/8208 [==============================] - 24s 3ms/step - loss: 1.0403 - acc: 0.6780 - val_loss: 1.0443 - val_acc: 0.6688\n",
            "Epoch 5/10\n",
            "8208/8208 [==============================] - 24s 3ms/step - loss: 1.0027 - acc: 0.6780 - val_loss: 1.0197 - val_acc: 0.6688\n",
            "Epoch 6/10\n",
            "8208/8208 [==============================] - 24s 3ms/step - loss: 0.9656 - acc: 0.6780 - val_loss: 0.9750 - val_acc: 0.6688\n",
            "Epoch 7/10\n",
            "8208/8208 [==============================] - 24s 3ms/step - loss: 0.9422 - acc: 0.6780 - val_loss: 0.9685 - val_acc: 0.6688\n",
            "Epoch 8/10\n",
            "8208/8208 [==============================] - 24s 3ms/step - loss: 0.9424 - acc: 0.6780 - val_loss: 0.9681 - val_acc: 0.6688\n",
            "Epoch 9/10\n",
            "8208/8208 [==============================] - 24s 3ms/step - loss: 0.9359 - acc: 0.6780 - val_loss: 0.9625 - val_acc: 0.6688\n",
            "Epoch 10/10\n",
            "8208/8208 [==============================] - 24s 3ms/step - loss: 0.9277 - acc: 0.6780 - val_loss: 0.9612 - val_acc: 0.6688\n"
          ],
          "name": "stdout"
        }
      ]
    },
    {
      "cell_type": "code",
      "metadata": {
        "colab_type": "code",
        "id": "XXcU_Tca5E5W",
        "outputId": "aaf5bed6-e34f-4fdf-a06f-b5116e023d1b",
        "colab": {
          "base_uri": "https://localhost:8080/",
          "height": 286
        }
      },
      "source": [
        "plt.plot(history.history['acc'])\n",
        "plt.plot(history.history['val_acc'])"
      ],
      "execution_count": 0,
      "outputs": [
        {
          "output_type": "execute_result",
          "data": {
            "text/plain": [
              "[<matplotlib.lines.Line2D at 0x7f3b33ffcc88>]"
            ]
          },
          "metadata": {
            "tags": []
          },
          "execution_count": 37
        },
        {
          "output_type": "display_data",
          "data": {
            "image/png": "[encoded data removed]",
            "text/plain": [
              "<Figure size 432x288 with 1 Axes>"
            ]
          },
          "metadata": {
            "tags": []
          }
        }
      ]
    },
    {
      "cell_type": "code",
      "metadata": {
        "colab_type": "code",
        "id": "EZvVYFuu5E5j",
        "outputId": "4b3237d7-611e-4990-fcba-52afd53ff13f",
        "colab": {
          "base_uri": "https://localhost:8080/",
          "height": 286
        }
      },
      "source": [
        "plt.plot(history.history['loss'])\n",
        "plt.plot(history.history['val_loss'])"
      ],
      "execution_count": 0,
      "outputs": [
        {
          "output_type": "execute_result",
          "data": {
            "text/plain": [
              "[<matplotlib.lines.Line2D at 0x7f403c315cc0>]"
            ]
          },
          "metadata": {
            "tags": []
          },
          "execution_count": 38
        },
        {
          "output_type": "display_data",
          "data": {
            "image/png": "[encoded data removed]",
            "text/plain": [
              "<Figure size 432x288 with 1 Axes>"
            ]
          },
          "metadata": {
            "tags": []
          }
        }
      ]
    },
    {
      "cell_type": "markdown",
      "metadata": {
        "id": "ujDduwe38zFK",
        "colab_type": "text"
      },
      "source": [
        "##Bidirectional LSTM 1"
      ]
    },
    {
      "cell_type": "code",
      "metadata": {
        "id": "PH-steBs81cy",
        "colab_type": "code",
        "outputId": "07202e41-81cb-4e10-c367-142f331e3770",
        "colab": {
          "base_uri": "https://localhost:8080/",
          "height": 532
        }
      },
      "source": [
        "model = Sequential()\n",
        "model.add(Embedding(2500,128,input_length=X1.shape[1],dropout=0.2))\n",
        "model.add(Bidirectional(LSTM(30, dropout_U=0.2,dropout_W=0.2)))\n",
        "model.add(Dense(5,activation='softmax'))\n",
        "model.compile(loss=keras.losses.categorical_crossentropy,optimizer='adam',metrics=['accuracy'])\n",
        "model.summary()"
      ],
      "execution_count": 10,
      "outputs": [
        {
          "output_type": "stream",
          "text": [
            "WARNING: Logging before flag parsing goes to stderr.\n",
            "W0801 15:05:55.514665 140610233124736 deprecation_wrapper.py:119] From /usr/local/lib/python3.6/dist-packages/keras/backend/tensorflow_backend.py:74: The name tf.get_default_graph is deprecated. Please use tf.compat.v1.get_default_graph instead.\n",
            "\n",
            "W0801 15:05:55.529463 140610233124736 deprecation_wrapper.py:119] From /usr/local/lib/python3.6/dist-packages/keras/backend/tensorflow_backend.py:517: The name tf.placeholder is deprecated. Please use tf.compat.v1.placeholder instead.\n",
            "\n",
            "W0801 15:05:55.532192 140610233124736 deprecation_wrapper.py:119] From /usr/local/lib/python3.6/dist-packages/keras/backend/tensorflow_backend.py:4138: The name tf.random_uniform is deprecated. Please use tf.random.uniform instead.\n",
            "\n",
            "W0801 15:05:55.678092 140610233124736 deprecation_wrapper.py:119] From /usr/local/lib/python3.6/dist-packages/keras/backend/tensorflow_backend.py:133: The name tf.placeholder_with_default is deprecated. Please use tf.compat.v1.placeholder_with_default instead.\n",
            "\n",
            "W0801 15:05:55.687085 140610233124736 deprecation.py:506] From /usr/local/lib/python3.6/dist-packages/keras/backend/tensorflow_backend.py:3445: calling dropout (from tensorflow.python.ops.nn_ops) with keep_prob is deprecated and will be removed in a future version.\n",
            "Instructions for updating:\n",
            "Please use `rate` instead of `keep_prob`. Rate should be set to `rate = 1 - keep_prob`.\n",
            "W0801 15:05:56.382282 140610233124736 deprecation_wrapper.py:119] From /usr/local/lib/python3.6/dist-packages/keras/optimizers.py:790: The name tf.train.Optimizer is deprecated. Please use tf.compat.v1.train.Optimizer instead.\n",
            "\n",
            "W0801 15:05:56.407941 140610233124736 deprecation_wrapper.py:119] From /usr/local/lib/python3.6/dist-packages/keras/backend/tensorflow_backend.py:3295: The name tf.log is deprecated. Please use tf.math.log instead.\n",
            "\n"
          ],
          "name": "stderr"
        },
        {
          "output_type": "stream",
          "text": [
            "_________________________________________________________________\n",
            "Layer (type)                 Output Shape              Param #   \n",
            "=================================================================\n",
            "embedding_1 (Embedding)      (None, 2467, 128)         320000    \n",
            "_________________________________________________________________\n",
            "bidirectional_1 (Bidirection (None, 60)                38160     \n",
            "_________________________________________________________________\n",
            "dense_1 (Dense)              (None, 5)                 305       \n",
            "=================================================================\n",
            "Total params: 358,465\n",
            "Trainable params: 358,465\n",
            "Non-trainable params: 0\n",
            "_________________________________________________________________\n"
          ],
          "name": "stdout"
        }
      ]
    },
    {
      "cell_type": "code",
      "metadata": {
        "id": "HBoQ1WFT9Qtx",
        "colab_type": "code",
        "outputId": "bc808203-0080-48b3-dad3-e17b52f0849a",
        "colab": {
          "base_uri": "https://localhost:8080/",
          "height": 473
        }
      },
      "source": [
        "history=model.fit(X_train1,Y_train1,epochs=10,validation_data=(X_test1,Y_test1),batch_size=500)"
      ],
      "execution_count": 0,
      "outputs": [
        {
          "output_type": "stream",
          "text": [
            "W0729 07:17:42.369988 140444370687872 deprecation.py:323] From /usr/local/lib/python3.6/dist-packages/tensorflow/python/ops/math_grad.py:1250: add_dispatch_support.<locals>.wrapper (from tensorflow.python.ops.array_ops) is deprecated and will be removed in a future version.\n",
            "Instructions for updating:\n",
            "Use tf.where in 2.0, which has the same broadcast rule as np.where\n"
          ],
          "name": "stderr"
        },
        {
          "output_type": "stream",
          "text": [
            "Train on 29700 samples, validate on 7426 samples\n",
            "Epoch 1/10\n",
            "29700/29700 [==============================] - 599s 20ms/step - loss: 1.2671 - acc: 0.5524 - val_loss: 1.1313 - val_acc: 0.5730\n",
            "Epoch 2/10\n",
            "29700/29700 [==============================] - 595s 20ms/step - loss: 1.0499 - acc: 0.5749 - val_loss: 0.9769 - val_acc: 0.5991\n",
            "Epoch 3/10\n",
            "29700/29700 [==============================] - 594s 20ms/step - loss: 0.9725 - acc: 0.5994 - val_loss: 0.9592 - val_acc: 0.6042\n",
            "Epoch 4/10\n",
            "29700/29700 [==============================] - 594s 20ms/step - loss: 0.9395 - acc: 0.6101 - val_loss: 0.9450 - val_acc: 0.6056\n",
            "Epoch 5/10\n",
            "29700/29700 [==============================] - 594s 20ms/step - loss: 0.9144 - acc: 0.6199 - val_loss: 0.9296 - val_acc: 0.6145\n",
            "Epoch 6/10\n",
            "29700/29700 [==============================] - 593s 20ms/step - loss: 0.8900 - acc: 0.6299 - val_loss: 0.9221 - val_acc: 0.6128\n",
            "Epoch 7/10\n",
            "29700/29700 [==============================] - 594s 20ms/step - loss: 0.8699 - acc: 0.6424 - val_loss: 0.9072 - val_acc: 0.6243\n",
            "Epoch 8/10\n",
            "29700/29700 [==============================] - 597s 20ms/step - loss: 0.8483 - acc: 0.6500 - val_loss: 0.9051 - val_acc: 0.6246\n",
            "Epoch 9/10\n",
            "29700/29700 [==============================] - 596s 20ms/step - loss: 0.8320 - acc: 0.6588 - val_loss: 0.9033 - val_acc: 0.6262\n",
            "Epoch 10/10\n",
            "29700/29700 [==============================] - 597s 20ms/step - loss: 0.8166 - acc: 0.6644 - val_loss: 0.9047 - val_acc: 0.6298\n"
          ],
          "name": "stdout"
        }
      ]
    },
    {
      "cell_type": "code",
      "metadata": {
        "id": "C4d6I8Txps2I",
        "colab_type": "code",
        "outputId": "cfae8635-5d37-4b19-f5ca-3b785ff6b596",
        "colab": {
          "base_uri": "https://localhost:8080/",
          "height": 287
        }
      },
      "source": [
        "plt.plot(history.history['acc'])\n",
        "plt.plot(history.history['val_acc'])"
      ],
      "execution_count": 0,
      "outputs": [
        {
          "output_type": "execute_result",
          "data": {
            "text/plain": [
              "[<matplotlib.lines.Line2D at 0x7fbb54691da0>]"
            ]
          },
          "metadata": {
            "tags": []
          },
          "execution_count": 16
        },
        {
          "output_type": "display_data",
          "data": {
            "image/png": "[encoded data removed]",
            "text/plain": [
              "<Figure size 432x288 with 1 Axes>"
            ]
          },
          "metadata": {
            "tags": []
          }
        }
      ]
    },
    {
      "cell_type": "code",
      "metadata": {
        "id": "BJxt3VHZIwKC",
        "colab_type": "code",
        "outputId": "67236156-209d-4b9b-b405-299de05c3d07",
        "colab": {
          "base_uri": "https://localhost:8080/",
          "height": 286
        }
      },
      "source": [
        "plt.plot(history.history['loss'])\n",
        "plt.plot(history.history['val_loss'])"
      ],
      "execution_count": 0,
      "outputs": [
        {
          "output_type": "execute_result",
          "data": {
            "text/plain": [
              "[<matplotlib.lines.Line2D at 0x7fc060310dd8>]"
            ]
          },
          "metadata": {
            "tags": []
          },
          "execution_count": 15
        },
        {
          "output_type": "display_data",
          "data": {
            "image/png": "[encoded data removed]",
            "text/plain": [
              "<Figure size 432x288 with 1 Axes>"
            ]
          },
          "metadata": {
            "tags": []
          }
        }
      ]
    },
    {
      "cell_type": "markdown",
      "metadata": {
        "colab_type": "text",
        "id": "6sn0yENMVyxl"
      },
      "source": [
        "###Oversampled"
      ]
    },
    {
      "cell_type": "code",
      "metadata": {
        "id": "JHQFekw7WTCW",
        "colab_type": "code",
        "colab": {}
      },
      "source": [
        "model = Sequential()\n",
        "model.add(Embedding(2500,128,input_length=X1.shape[1],dropout=0.2))\n",
        "model.add(Bidirectional(LSTM(30, dropout_U=0.2,dropout_W=0.2)))\n",
        "model.add(Dense(5,activation='softmax'))\n",
        "model.compile(loss=keras.losses.categorical_crossentropy,optimizer='adam',metrics=['accuracy'])\n",
        "model.summary()"
      ],
      "execution_count": 0,
      "outputs": []
    },
    {
      "cell_type": "code",
      "metadata": {
        "colab_type": "code",
        "outputId": "009c5e2d-0e6c-428a-a07c-7050723f88b0",
        "id": "1SvRcDMjVyx4",
        "colab": {
          "base_uri": "https://localhost:8080/",
          "height": 276
        }
      },
      "source": [
        "###Oversampled 1\n",
        "history=model.fit(X_train1,Y_train1,epochs=5,validation_data=(X_test1,Y_test1),batch_size=700)"
      ],
      "execution_count": 11,
      "outputs": [
        {
          "output_type": "stream",
          "text": [
            "W0801 15:06:08.712048 140610233124736 deprecation.py:323] From /usr/local/lib/python3.6/dist-packages/tensorflow/python/ops/math_grad.py:1250: add_dispatch_support.<locals>.wrapper (from tensorflow.python.ops.array_ops) is deprecated and will be removed in a future version.\n",
            "Instructions for updating:\n",
            "Use tf.where in 2.0, which has the same broadcast rule as np.where\n"
          ],
          "name": "stderr"
        },
        {
          "output_type": "stream",
          "text": [
            "Train on 61167 samples, validate on 15292 samples\n",
            "Epoch 1/5\n",
            "61167/61167 [==============================] - 1377s 23ms/step - loss: 1.4289 - acc: 0.3849 - val_loss: 1.1835 - val_acc: 0.5246\n",
            "Epoch 2/5\n",
            "61167/61167 [==============================] - 1358s 22ms/step - loss: 1.1149 - acc: 0.5512 - val_loss: 1.0489 - val_acc: 0.5801\n",
            "Epoch 3/5\n",
            "61167/61167 [==============================] - 1355s 22ms/step - loss: 1.0158 - acc: 0.5991 - val_loss: 0.9916 - val_acc: 0.6079\n",
            "Epoch 4/5\n",
            "61167/61167 [==============================] - 1360s 22ms/step - loss: 0.9512 - acc: 0.6328 - val_loss: 0.9414 - val_acc: 0.6363\n",
            "Epoch 5/5\n",
            "61167/61167 [==============================] - 1360s 22ms/step - loss: 0.8988 - acc: 0.6574 - val_loss: 0.8968 - val_acc: 0.6590\n"
          ],
          "name": "stdout"
        }
      ]
    },
    {
      "cell_type": "code",
      "metadata": {
        "colab_type": "code",
        "outputId": "bd644b95-64e8-4d30-d462-b545dbe44bda",
        "id": "HwGdWToGVyyB",
        "colab": {
          "base_uri": "https://localhost:8080/",
          "height": 204
        }
      },
      "source": [
        "###Oversampled 2\n",
        "history=model.fit(X_train1,Y_train1,epochs=5,validation_data=(X_test1,Y_test1),batch_size=700)"
      ],
      "execution_count": 13,
      "outputs": [
        {
          "output_type": "stream",
          "text": [
            "Train on 61167 samples, validate on 15292 samples\n",
            "Epoch 1/5\n",
            "61167/61167 [==============================] - 1362s 22ms/step - loss: 0.8566 - acc: 0.6760 - val_loss: 0.8697 - val_acc: 0.6720\n",
            "Epoch 2/5\n",
            "61167/61167 [==============================] - 1361s 22ms/step - loss: 0.8420 - acc: 0.6804 - val_loss: 0.8566 - val_acc: 0.6756\n",
            "Epoch 3/5\n",
            "61167/61167 [==============================] - 1363s 22ms/step - loss: 0.7892 - acc: 0.7023 - val_loss: 0.8183 - val_acc: 0.6959\n",
            "Epoch 4/5\n",
            "61167/61167 [==============================] - 1362s 22ms/step - loss: 0.7616 - acc: 0.7136 - val_loss: 0.7975 - val_acc: 0.7018\n",
            "Epoch 5/5\n",
            "61167/61167 [==============================] - 1347s 22ms/step - loss: 0.7338 - acc: 0.7264 - val_loss: 0.7619 - val_acc: 0.7199\n"
          ],
          "name": "stdout"
        }
      ]
    },
    {
      "cell_type": "markdown",
      "metadata": {
        "colab_type": "text",
        "id": "a7JGcEjT4sAh"
      },
      "source": [
        "##Bidirectional LSTM 2"
      ]
    },
    {
      "cell_type": "code",
      "metadata": {
        "colab_type": "code",
        "outputId": "5ce366f8-5fe8-4ecf-9a3e-302d2a1bc1e5",
        "id": "hbn432Kt4sAk",
        "colab": {
          "base_uri": "https://localhost:8080/",
          "height": 235
        }
      },
      "source": [
        "model = Sequential()\n",
        "model.add(Embedding(2500,128,input_length=X2.shape[1],dropout=0.2))\n",
        "model.add(Bidirectional(LSTM(30, dropout_U=0.2,dropout_W=0.2)))\n",
        "model.add(Dense(5,activation='softmax'))\n",
        "model.compile(loss=keras.losses.categorical_crossentropy,optimizer='adam',metrics=['accuracy'])\n",
        "model.summary()"
      ],
      "execution_count": 0,
      "outputs": [
        {
          "output_type": "stream",
          "text": [
            "_________________________________________________________________\n",
            "Layer (type)                 Output Shape              Param #   \n",
            "=================================================================\n",
            "embedding_5 (Embedding)      (None, 1820, 128)         320000    \n",
            "_________________________________________________________________\n",
            "bidirectional_5 (Bidirection (None, 60)                38160     \n",
            "_________________________________________________________________\n",
            "dense_5 (Dense)              (None, 5)                 305       \n",
            "=================================================================\n",
            "Total params: 358,465\n",
            "Trainable params: 358,465\n",
            "Non-trainable params: 0\n",
            "_________________________________________________________________\n"
          ],
          "name": "stdout"
        }
      ]
    },
    {
      "cell_type": "code",
      "metadata": {
        "colab_type": "code",
        "id": "99XgLf0n4sAv",
        "outputId": "214500f4-243d-4ee9-c390-6cfb3c9340e7",
        "colab": {
          "base_uri": "https://localhost:8080/",
          "height": 473
        }
      },
      "source": [
        "history=model.fit(X_train2,Y_train2,epochs=10,validation_data=(X_test2,Y_test2),batch_size=500)"
      ],
      "execution_count": 0,
      "outputs": [
        {
          "output_type": "stream",
          "text": [
            "W0729 14:38:21.580045 140311138011008 deprecation.py:323] From /usr/local/lib/python3.6/dist-packages/tensorflow/python/ops/math_grad.py:1250: add_dispatch_support.<locals>.wrapper (from tensorflow.python.ops.array_ops) is deprecated and will be removed in a future version.\n",
            "Instructions for updating:\n",
            "Use tf.where in 2.0, which has the same broadcast rule as np.where\n"
          ],
          "name": "stderr"
        },
        {
          "output_type": "stream",
          "text": [
            "Train on 8208 samples, validate on 2053 samples\n",
            "Epoch 1/10\n",
            "8208/8208 [==============================] - 123s 15ms/step - loss: 1.3950 - acc: 0.6168 - val_loss: 1.0520 - val_acc: 0.6844\n",
            "Epoch 2/10\n",
            "8208/8208 [==============================] - 122s 15ms/step - loss: 1.0120 - acc: 0.6741 - val_loss: 0.9354 - val_acc: 0.6844\n",
            "Epoch 3/10\n",
            "8208/8208 [==============================] - 121s 15ms/step - loss: 0.9500 - acc: 0.6741 - val_loss: 0.9214 - val_acc: 0.6844\n",
            "Epoch 4/10\n",
            "8208/8208 [==============================] - 121s 15ms/step - loss: 0.9297 - acc: 0.6741 - val_loss: 0.9064 - val_acc: 0.6844\n",
            "Epoch 5/10\n",
            "8208/8208 [==============================] - 120s 15ms/step - loss: 0.8955 - acc: 0.6741 - val_loss: 0.8797 - val_acc: 0.6844\n",
            "Epoch 6/10\n",
            "8208/8208 [==============================] - 121s 15ms/step - loss: 0.8463 - acc: 0.6840 - val_loss: 0.8597 - val_acc: 0.6800\n",
            "Epoch 7/10\n",
            "8208/8208 [==============================] - 120s 15ms/step - loss: 0.8044 - acc: 0.6941 - val_loss: 0.8602 - val_acc: 0.6771\n",
            "Epoch 8/10\n",
            "8208/8208 [==============================] - 120s 15ms/step - loss: 0.7667 - acc: 0.7064 - val_loss: 0.8619 - val_acc: 0.6814\n",
            "Epoch 9/10\n",
            "8208/8208 [==============================] - 119s 15ms/step - loss: 0.7390 - acc: 0.7160 - val_loss: 0.8679 - val_acc: 0.6785\n",
            "Epoch 10/10\n",
            "8208/8208 [==============================] - 116s 14ms/step - loss: 0.7095 - acc: 0.7292 - val_loss: 0.8790 - val_acc: 0.6790\n"
          ],
          "name": "stdout"
        }
      ]
    },
    {
      "cell_type": "code",
      "metadata": {
        "colab_type": "code",
        "outputId": "9a9ac1a4-874b-4d7d-a413-6e21ed3ecb0e",
        "id": "qSSg2fhH4sA4",
        "colab": {
          "base_uri": "https://localhost:8080/",
          "height": 286
        }
      },
      "source": [
        "plt.plot(history.history['acc'])\n",
        "plt.plot(history.history['val_acc'])\n",
        "plt.legend(['Acc','Val_Acc'])"
      ],
      "execution_count": 0,
      "outputs": [
        {
          "output_type": "execute_result",
          "data": {
            "text/plain": [
              "<matplotlib.legend.Legend at 0x7f23702c5128>"
            ]
          },
          "metadata": {
            "tags": []
          },
          "execution_count": 21
        },
        {
          "output_type": "display_data",
          "data": {
            "image/png": "[encoded data removed]",
            "text/plain": [
              "<Figure size 432x288 with 1 Axes>"
            ]
          },
          "metadata": {
            "tags": []
          }
        }
      ]
    },
    {
      "cell_type": "code",
      "metadata": {
        "colab_type": "code",
        "outputId": "eeeabe7b-e90b-4108-89e1-7a0eea04e52d",
        "id": "rAt1oIRH4sA-",
        "colab": {
          "base_uri": "https://localhost:8080/",
          "height": 287
        }
      },
      "source": [
        "plt.plot(history.history['loss'])\n",
        "plt.plot(history.history['val_loss'])"
      ],
      "execution_count": 0,
      "outputs": [
        {
          "output_type": "execute_result",
          "data": {
            "text/plain": [
              "[<matplotlib.lines.Line2D at 0x7f9c500b3978>]"
            ]
          },
          "metadata": {
            "tags": []
          },
          "execution_count": 19
        },
        {
          "output_type": "display_data",
          "data": {
            "image/png": "[encoded data removed]",
            "text/plain": [
              "<Figure size 432x288 with 1 Axes>"
            ]
          },
          "metadata": {
            "tags": []
          }
        }
      ]
    },
    {
      "cell_type": "markdown",
      "metadata": {
        "id": "b4jhdXBbB9MK",
        "colab_type": "text"
      },
      "source": [
        "###Oversampled"
      ]
    },
    {
      "cell_type": "code",
      "metadata": {
        "id": "NiTH_30iyWFy",
        "colab_type": "code",
        "colab": {}
      },
      "source": [
        "model.save('BidirectionalLSTM2_oversampled.h5')"
      ],
      "execution_count": 0,
      "outputs": []
    },
    {
      "cell_type": "code",
      "metadata": {
        "id": "K7yw75DumbEk",
        "colab_type": "code",
        "outputId": "25467706-c229-41c5-c84e-cbcfffbd3fd3",
        "colab": {
          "base_uri": "https://localhost:8080/",
          "height": 202
        }
      },
      "source": [
        "###Oversampled 1\n",
        "history=model.fit(X_train2,Y_train2,epochs=5,validation_data=(X_test2,Y_test2),batch_size=500)"
      ],
      "execution_count": 0,
      "outputs": [
        {
          "output_type": "stream",
          "text": [
            "Train on 12824 samples, validate on 3206 samples\n",
            "Epoch 1/5\n",
            "12824/12824 [==============================] - 247s 19ms/step - loss: 1.5023 - acc: 0.4250 - val_loss: 1.4457 - val_acc: 0.4248\n",
            "Epoch 2/5\n",
            "12824/12824 [==============================] - 243s 19ms/step - loss: 1.3978 - acc: 0.4350 - val_loss: 1.3278 - val_acc: 0.4270\n",
            "Epoch 3/5\n",
            "12824/12824 [==============================] - 243s 19ms/step - loss: 1.2271 - acc: 0.5196 - val_loss: 1.1354 - val_acc: 0.5686\n",
            "Epoch 4/5\n",
            "12824/12824 [==============================] - 244s 19ms/step - loss: 1.0536 - acc: 0.6146 - val_loss: 0.9850 - val_acc: 0.6394\n",
            "Epoch 5/5\n",
            "12824/12824 [==============================] - 243s 19ms/step - loss: 0.9101 - acc: 0.6766 - val_loss: 0.8689 - val_acc: 0.6990\n"
          ],
          "name": "stdout"
        }
      ]
    },
    {
      "cell_type": "code",
      "metadata": {
        "id": "nPtCRC_S8tS8",
        "colab_type": "code",
        "outputId": "d6069e15-def4-426a-ea40-523999b04327",
        "colab": {
          "base_uri": "https://localhost:8080/",
          "height": 202
        }
      },
      "source": [
        "###Oversampled 2\n",
        "history=model.fit(X_train2,Y_train2,epochs=5,validation_data=(X_test2,Y_test2),batch_size=500)"
      ],
      "execution_count": 0,
      "outputs": [
        {
          "output_type": "stream",
          "text": [
            "Train on 12824 samples, validate on 3206 samples\n",
            "Epoch 1/5\n",
            "12824/12824 [==============================] - 243s 19ms/step - loss: 0.8068 - acc: 0.7221 - val_loss: 0.7128 - val_acc: 0.7661\n",
            "Epoch 2/5\n",
            "12824/12824 [==============================] - 242s 19ms/step - loss: 0.7149 - acc: 0.7567 - val_loss: 0.6572 - val_acc: 0.7810\n",
            "Epoch 3/5\n",
            "12824/12824 [==============================] - 241s 19ms/step - loss: 0.6467 - acc: 0.7768 - val_loss: 0.6139 - val_acc: 0.7888\n",
            "Epoch 4/5\n",
            "12824/12824 [==============================] - 242s 19ms/step - loss: 0.5941 - acc: 0.7910 - val_loss: 0.5794 - val_acc: 0.7969\n",
            "Epoch 5/5\n",
            "12824/12824 [==============================] - 243s 19ms/step - loss: 0.5559 - acc: 0.7984 - val_loss: 0.5568 - val_acc: 0.8016\n"
          ],
          "name": "stdout"
        }
      ]
    },
    {
      "cell_type": "markdown",
      "metadata": {
        "id": "3R2dDQaHCcjj",
        "colab_type": "text"
      },
      "source": [
        "##My example"
      ]
    },
    {
      "cell_type": "markdown",
      "metadata": {
        "id": "ZTRhCFcCESjV",
        "colab_type": "text"
      },
      "source": [
        "**BAD EXAMPLE**"
      ]
    },
    {
      "cell_type": "code",
      "metadata": {
        "id": "HGM_ZzrzAQdA",
        "colab_type": "code",
        "outputId": "3a78b113-e6b7-4ae5-e5d6-2c0514209e0e",
        "colab": {
          "base_uri": "https://localhost:8080/",
          "height": 34
        }
      },
      "source": [
        "ss=np.array([\"Very bad product, useless waste\"])\n",
        "\n",
        "tokenizer = Tokenizer(num_words=2500,split=' ')\n",
        "tokenizer.fit_on_texts(X2)\n",
        "ss = tokenizer.texts_to_sequences(ss)\n",
        "ss = pad_sequences(ss,maxlen=1820)   ##1820 because based on dataset 2, that is the configuration of the model\n",
        "output=model.predict(ss)\n",
        "print(output)"
      ],
      "execution_count": 0,
      "outputs": [
        {
          "output_type": "stream",
          "text": [
            "[[0.43569613 0.27017704 0.2057942  0.04750998 0.04082273]]\n"
          ],
          "name": "stdout"
        }
      ]
    },
    {
      "cell_type": "code",
      "metadata": {
        "id": "0f4YWEysh0T5",
        "colab_type": "code",
        "outputId": "7c3f3158-f750-4da2-e17a-9ae71b0d1b03",
        "colab": {
          "base_uri": "https://localhost:8080/",
          "height": 34
        }
      },
      "source": [
        "np.argmax(output)"
      ],
      "execution_count": 0,
      "outputs": [
        {
          "output_type": "execute_result",
          "data": {
            "text/plain": [
              "0"
            ]
          },
          "metadata": {
            "tags": []
          },
          "execution_count": 214
        }
      ]
    },
    {
      "cell_type": "markdown",
      "metadata": {
        "id": "N7D9_cBFdvCm",
        "colab_type": "text"
      },
      "source": [
        "**Medium Example**"
      ]
    },
    {
      "cell_type": "code",
      "metadata": {
        "id": "yVBEDjcW9MHY",
        "colab_type": "code",
        "outputId": "afaf26e5-d031-4b15-a036-7b5c8f443098",
        "colab": {
          "base_uri": "https://localhost:8080/",
          "height": 34
        }
      },
      "source": [
        "ss=np.array([\"It's okay, not that great, but useful\"])\n",
        "\n",
        "tokenizer = Tokenizer(num_words=2500,split=' ')\n",
        "tokenizer.fit_on_texts(X2)\n",
        "ss = tokenizer.texts_to_sequences(ss)\n",
        "ss = pad_sequences(ss,maxlen=1820)   ##1820 because based on dataset 2, that is the configuration of the model\n",
        "output=model.predict(ss)\n",
        "print(output)"
      ],
      "execution_count": 0,
      "outputs": [
        {
          "output_type": "stream",
          "text": [
            "[[0.14956002 0.21396787 0.34383577 0.1442001  0.1484362 ]]\n"
          ],
          "name": "stdout"
        }
      ]
    },
    {
      "cell_type": "code",
      "metadata": {
        "id": "eA17Q9Mq9XcQ",
        "colab_type": "code",
        "outputId": "fa7214c2-63f6-47f4-a7b7-47deda91abbb",
        "colab": {
          "base_uri": "https://localhost:8080/",
          "height": 34
        }
      },
      "source": [
        "np.argmax(output)"
      ],
      "execution_count": 0,
      "outputs": [
        {
          "output_type": "execute_result",
          "data": {
            "text/plain": [
              "2"
            ]
          },
          "metadata": {
            "tags": []
          },
          "execution_count": 51
        }
      ]
    },
    {
      "cell_type": "markdown",
      "metadata": {
        "id": "JE1zC6mMEVTV",
        "colab_type": "text"
      },
      "source": [
        "**GOOD EXAMPLE**"
      ]
    },
    {
      "cell_type": "code",
      "metadata": {
        "id": "OhEjbAwxDmFM",
        "colab_type": "code",
        "outputId": "c4e72c91-83f5-4cd9-cd8e-df356ef0b69b",
        "colab": {
          "base_uri": "https://localhost:8080/",
          "height": 34
        }
      },
      "source": [
        "ss=np.array([\"Good product! excellent choice\"])\n",
        "tokenizer = Tokenizer(num_words=2500,split=' ')\n",
        "tokenizer.fit_on_texts(X2)\n",
        "ss = tokenizer.texts_to_sequences(ss)\n",
        "ss = pad_sequences(ss,maxlen=1820)\n",
        "\n",
        "output=model.predict(ss)\n",
        "print(output)"
      ],
      "execution_count": 0,
      "outputs": [
        {
          "output_type": "stream",
          "text": [
            "[[0.01514664 0.04104379 0.09784835 0.22063209 0.62532914]]\n"
          ],
          "name": "stdout"
        }
      ]
    },
    {
      "cell_type": "code",
      "metadata": {
        "id": "wSVpDwhF7Blv",
        "colab_type": "code",
        "outputId": "56e0f9fe-3084-42f8-e1cf-6c32800a6a38",
        "colab": {
          "base_uri": "https://localhost:8080/",
          "height": 34
        }
      },
      "source": [
        "np.argmax(output)"
      ],
      "execution_count": 0,
      "outputs": [
        {
          "output_type": "execute_result",
          "data": {
            "text/plain": [
              "4"
            ]
          },
          "metadata": {
            "tags": []
          },
          "execution_count": 49
        }
      ]
    },
    {
      "cell_type": "markdown",
      "metadata": {
        "id": "v4P4oBpVDhLN",
        "colab_type": "text"
      },
      "source": [
        "###Confusion Matrix"
      ]
    },
    {
      "cell_type": "code",
      "metadata": {
        "id": "ZZx2AFQurjX3",
        "colab_type": "code",
        "colab": {}
      },
      "source": [
        "#from sklearn.metrics import confusion_matrix\n",
        "Y_pred=model.predict(X_test2)"
      ],
      "execution_count": 0,
      "outputs": []
    },
    {
      "cell_type": "code",
      "metadata": {
        "id": "uki6sMVjxjMF",
        "colab_type": "code",
        "outputId": "3d71cd8f-5084-468e-f81c-2acfd603fe61",
        "colab": {
          "base_uri": "https://localhost:8080/",
          "height": 151
        }
      },
      "source": [
        "Y_pred"
      ],
      "execution_count": 0,
      "outputs": [
        {
          "output_type": "execute_result",
          "data": {
            "text/plain": [
              "array([[0.01857104, 0.01043268, 0.03490482, 0.15026663, 0.78582484],\n",
              "       [0.00645488, 0.00408534, 0.01643613, 0.12019697, 0.8528267 ],\n",
              "       [0.03583751, 0.03848594, 0.14319637, 0.34623334, 0.4362469 ],\n",
              "       ...,\n",
              "       [0.00376264, 0.00157525, 0.00584735, 0.04276349, 0.94605124],\n",
              "       [0.00616191, 0.00331085, 0.01680251, 0.09013866, 0.88358605],\n",
              "       [0.00258934, 0.00113525, 0.00514255, 0.03979928, 0.9513335 ]],\n",
              "      dtype=float32)"
            ]
          },
          "metadata": {
            "tags": []
          },
          "execution_count": 48
        }
      ]
    },
    {
      "cell_type": "code",
      "metadata": {
        "id": "rip_uYibszEd",
        "colab_type": "code",
        "outputId": "ee41a8e9-e944-453b-eec7-728fea6f9ad1",
        "colab": {
          "base_uri": "https://localhost:8080/",
          "height": 101
        }
      },
      "source": [
        "###OLD\n",
        "confusion_matrix(np.argmax(Y_test2,axis=1),np.argmax(Y_pred,axis=1))"
      ],
      "execution_count": 0,
      "outputs": [
        {
          "output_type": "execute_result",
          "data": {
            "text/plain": [
              "array([[   0,    0,    0,   23,   19],\n",
              "       [   0,    0,    0,   35,   35],\n",
              "       [   0,    0,    0,   88,   55],\n",
              "       [   0,    0,    0,  134,  289],\n",
              "       [   0,    0,    0,  165, 1210]])"
            ]
          },
          "metadata": {
            "tags": []
          },
          "execution_count": 50
        }
      ]
    },
    {
      "cell_type": "code",
      "metadata": {
        "id": "c43Y1sbPXNdu",
        "colab_type": "code",
        "colab": {}
      },
      "source": [
        "cm_old=np.array([[   0,    0,    0,   23,   19],\n",
        "       [   0,    0,    0,   35,   35],\n",
        "       [   0,    0,    0,   88,   55],\n",
        "       [   0,    0,    0,  134,  289],\n",
        "       [   0,    0,    0,  165, 1210]])"
      ],
      "execution_count": 0,
      "outputs": []
    },
    {
      "cell_type": "code",
      "metadata": {
        "id": "pSQ__wljVeBx",
        "colab_type": "code",
        "outputId": "fc5552b1-3d50-4f51-8e00-92ca531dcb31",
        "colab": {
          "base_uri": "https://localhost:8080/",
          "height": 286
        }
      },
      "source": [
        "sns.heatmap(np.divide(cm_old,cm_old.sum(axis=0),where=cm_old.sum(axis=0)!=0),cmap='coolwarm',annot=cm_old,fmt='g',linewidths=1, linecolor='black')"
      ],
      "execution_count": 0,
      "outputs": [
        {
          "output_type": "execute_result",
          "data": {
            "text/plain": [
              "<matplotlib.axes._subplots.AxesSubplot at 0x7f232f5605c0>"
            ]
          },
          "metadata": {
            "tags": []
          },
          "execution_count": 106
        },
        {
          "output_type": "display_data",
          "data": {
            "image/png": "[encoded data removed]",
            "text/plain": [
              "<Figure size 432x288 with 2 Axes>"
            ]
          },
          "metadata": {
            "tags": []
          }
        }
      ]
    },
    {
      "cell_type": "code",
      "metadata": {
        "id": "qqY-Ua27TPw2",
        "colab_type": "code",
        "colab": {}
      },
      "source": [
        "###NEW\n",
        "cm=confusion_matrix(np.argmax(Y_test2,axis=1),np.argmax(Y_pred,axis=1))"
      ],
      "execution_count": 0,
      "outputs": []
    },
    {
      "cell_type": "code",
      "metadata": {
        "id": "JtH1E2ntTwOH",
        "colab_type": "code",
        "outputId": "42e4ab7c-f054-42b8-b9be-ade0136fba6f",
        "colab": {
          "base_uri": "https://localhost:8080/",
          "height": 101
        }
      },
      "source": [
        "cm"
      ],
      "execution_count": 0,
      "outputs": [
        {
          "output_type": "execute_result",
          "data": {
            "text/plain": [
              "array([[ 439,    5,    0,    0,    0],\n",
              "       [  22,  309,   24,    3,    6],\n",
              "       [   9,   19,  493,   10,   60],\n",
              "       [   8,   15,  102,    5,  307],\n",
              "       [  17,   16,  111,   12, 1214]])"
            ]
          },
          "metadata": {
            "tags": []
          },
          "execution_count": 68
        }
      ]
    },
    {
      "cell_type": "code",
      "metadata": {
        "id": "q4iFNpwLULXV",
        "colab_type": "code",
        "outputId": "08506af7-405f-4aaf-9364-8bacfebf80e7",
        "colab": {
          "base_uri": "https://localhost:8080/",
          "height": 286
        }
      },
      "source": [
        "sns.heatmap(cm/cm.sum(axis=0),cmap='coolwarm',annot=cm,fmt='g',linewidths=1, linecolor='black')"
      ],
      "execution_count": 0,
      "outputs": [
        {
          "output_type": "execute_result",
          "data": {
            "text/plain": [
              "<matplotlib.axes._subplots.AxesSubplot at 0x7f232f8705f8>"
            ]
          },
          "metadata": {
            "tags": []
          },
          "execution_count": 98
        },
        {
          "output_type": "display_data",
          "data": {
            "image/png": "[encoded data removed]",
            "text/plain": [
              "<Figure size 432x288 with 2 Axes>"
            ]
          },
          "metadata": {
            "tags": []
          }
        }
      ]
    }
  ]
}