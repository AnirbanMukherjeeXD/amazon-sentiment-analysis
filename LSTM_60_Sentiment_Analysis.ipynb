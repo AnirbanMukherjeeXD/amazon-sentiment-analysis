{
 "cells": [
  {
   "cell_type": "markdown",
   "metadata": {
    "colab_type": "text",
    "id": "view-in-github"
   },
   "source": [
    "<a href=\"https://colab.research.google.com/github/AnirbanMukherjeeXD/amazon-sentiment-analysis/blob/master/LSTM_60_Sentiment_Analysis.ipynb\" target=\"_parent\"><img src=\"https://colab.research.google.com/assets/colab-badge.svg\" alt=\"Open In Colab\"/></a>"
   ]
  },
  {
   "cell_type": "code",
   "execution_count": 0,
   "metadata": {
    "colab": {},
    "colab_type": "code",
    "id": "QGRbeZfe6Mlb"
   },
   "outputs": [],
   "source": [
    "import warnings\n",
    "warnings.filterwarnings('ignore')"
   ]
  },
  {
   "cell_type": "code",
   "execution_count": 0,
   "metadata": {
    "colab": {},
    "colab_type": "code",
    "id": "2KkL8Pxbt2Sg"
   },
   "outputs": [],
   "source": [
    "import numpy as np\n",
    "import pandas as pd\n",
    "import seaborn as sns\n",
    "import matplotlib.pyplot as plt"
   ]
  },
  {
   "cell_type": "markdown",
   "metadata": {
    "colab_type": "text",
    "id": "3xm6KqF5yrxj"
   },
   "source": [
    "# Dataset"
   ]
  },
  {
   "cell_type": "code",
   "execution_count": 0,
   "metadata": {
    "colab": {
     "base_uri": "https://localhost:8080/",
     "height": 195
    },
    "colab_type": "code",
    "id": "rNCIFAz64YHr",
    "outputId": "64784381-d14f-4d41-a893-73a9800fe2bb"
   },
   "outputs": [
    {
     "data": {
      "text/html": [
       "<div>\n",
       "<style scoped>\n",
       "    .dataframe tbody tr th:only-of-type {\n",
       "        vertical-align: middle;\n",
       "    }\n",
       "\n",
       "    .dataframe tbody tr th {\n",
       "        vertical-align: top;\n",
       "    }\n",
       "\n",
       "    .dataframe thead th {\n",
       "        text-align: right;\n",
       "    }\n",
       "</style>\n",
       "<table border=\"1\" class=\"dataframe\">\n",
       "  <thead>\n",
       "    <tr style=\"text-align: right;\">\n",
       "      <th></th>\n",
       "      <th>overall</th>\n",
       "      <th>reviewText</th>\n",
       "    </tr>\n",
       "  </thead>\n",
       "  <tbody>\n",
       "    <tr>\n",
       "      <th>0</th>\n",
       "      <td>2</td>\n",
       "      <td>I had big expectations because I love English ...</td>\n",
       "    </tr>\n",
       "    <tr>\n",
       "      <th>1</th>\n",
       "      <td>5</td>\n",
       "      <td>I highly recommend this series. It is a must f...</td>\n",
       "    </tr>\n",
       "    <tr>\n",
       "      <th>2</th>\n",
       "      <td>1</td>\n",
       "      <td>This one is a real snoozer. Don't believe anyt...</td>\n",
       "    </tr>\n",
       "    <tr>\n",
       "      <th>3</th>\n",
       "      <td>4</td>\n",
       "      <td>Mysteries are interesting.  The tension betwee...</td>\n",
       "    </tr>\n",
       "    <tr>\n",
       "      <th>4</th>\n",
       "      <td>5</td>\n",
       "      <td>This show always is excellent, as far as briti...</td>\n",
       "    </tr>\n",
       "  </tbody>\n",
       "</table>\n",
       "</div>"
      ],
      "text/plain": [
       "   overall                                         reviewText\n",
       "0        2  I had big expectations because I love English ...\n",
       "1        5  I highly recommend this series. It is a must f...\n",
       "2        1  This one is a real snoozer. Don't believe anyt...\n",
       "3        4  Mysteries are interesting.  The tension betwee...\n",
       "4        5  This show always is excellent, as far as briti..."
      ]
     },
     "execution_count": 3,
     "metadata": {
      "tags": []
     },
     "output_type": "execute_result"
    }
   ],
   "source": [
    "dataset=pd.read_json('https://raw.githubusercontent.com/AnirbanMukherjeeXD/amazon-sentiment-analysis/master/dataset/Amazon_Instant_Video_5.json?token=AIJPU64KFFGET5BHPE3UMN25ILUTA',lines=True).loc[:,['overall','reviewText']]\n",
    "dataset.head()"
   ]
  },
  {
   "cell_type": "code",
   "execution_count": 0,
   "metadata": {
    "colab": {
     "base_uri": "https://localhost:8080/",
     "height": 195
    },
    "colab_type": "code",
    "id": "B_JPvKoFt0Lp",
    "outputId": "1afee1f9-e743-4aae-ecf2-13aa9bddf895"
   },
   "outputs": [
    {
     "data": {
      "text/html": [
       "<div>\n",
       "<style scoped>\n",
       "    .dataframe tbody tr th:only-of-type {\n",
       "        vertical-align: middle;\n",
       "    }\n",
       "\n",
       "    .dataframe tbody tr th {\n",
       "        vertical-align: top;\n",
       "    }\n",
       "\n",
       "    .dataframe thead th {\n",
       "        text-align: right;\n",
       "    }\n",
       "</style>\n",
       "<table border=\"1\" class=\"dataframe\">\n",
       "  <thead>\n",
       "    <tr style=\"text-align: right;\">\n",
       "      <th></th>\n",
       "      <th>overall</th>\n",
       "      <th>reviewText</th>\n",
       "    </tr>\n",
       "  </thead>\n",
       "  <tbody>\n",
       "    <tr>\n",
       "      <th>0</th>\n",
       "      <td>5</td>\n",
       "      <td>Not much to write about here, but it does exac...</td>\n",
       "    </tr>\n",
       "    <tr>\n",
       "      <th>1</th>\n",
       "      <td>5</td>\n",
       "      <td>The product does exactly as it should and is q...</td>\n",
       "    </tr>\n",
       "    <tr>\n",
       "      <th>2</th>\n",
       "      <td>5</td>\n",
       "      <td>The primary job of this device is to block the...</td>\n",
       "    </tr>\n",
       "    <tr>\n",
       "      <th>3</th>\n",
       "      <td>5</td>\n",
       "      <td>Nice windscreen protects my MXL mic and preven...</td>\n",
       "    </tr>\n",
       "    <tr>\n",
       "      <th>4</th>\n",
       "      <td>5</td>\n",
       "      <td>This pop filter is great. It looks and perform...</td>\n",
       "    </tr>\n",
       "  </tbody>\n",
       "</table>\n",
       "</div>"
      ],
      "text/plain": [
       "   overall                                         reviewText\n",
       "0        5  Not much to write about here, but it does exac...\n",
       "1        5  The product does exactly as it should and is q...\n",
       "2        5  The primary job of this device is to block the...\n",
       "3        5  Nice windscreen protects my MXL mic and preven...\n",
       "4        5  This pop filter is great. It looks and perform..."
      ]
     },
     "execution_count": 5,
     "metadata": {
      "tags": []
     },
     "output_type": "execute_result"
    }
   ],
   "source": [
    "dataset2=pd.read_json('https://raw.githubusercontent.com/AnirbanMukherjeeXD/amazon-sentiment-analysis/master/dataset/Musical_Instruments_5.json?token=AIJPU64JB3LPJO2NWXOHZF25IELI6',lines=True).loc[:,['overall','reviewText']]\n",
    "dataset2.head()"
   ]
  },
  {
   "cell_type": "code",
   "execution_count": 0,
   "metadata": {
    "colab": {
     "base_uri": "https://localhost:8080/",
     "height": 300
    },
    "colab_type": "code",
    "id": "CdErjklPwGEv",
    "outputId": "9b28d4a8-9e01-41a6-c844-61f6f83a2d2f"
   },
   "outputs": [
    {
     "data": {
      "text/plain": [
       "<matplotlib.axes._subplots.AxesSubplot at 0x7f4f531c67f0>"
      ]
     },
     "execution_count": 9,
     "metadata": {
      "tags": []
     },
     "output_type": "execute_result"
    },
    {
     "data": {
      "image/png": "[encoded data removed]",
      "text/plain": [
       "<Figure size 432x288 with 1 Axes>"
      ]
     },
     "metadata": {
      "tags": []
     },
     "output_type": "display_data"
    }
   ],
   "source": [
    "sns.countplot(dataset['overall'])"
   ]
  },
  {
   "cell_type": "markdown",
   "metadata": {
    "colab_type": "text",
    "id": "5bhegQayyngK"
   },
   "source": [
    "#Preprocessing"
   ]
  },
  {
   "cell_type": "code",
   "execution_count": 0,
   "metadata": {
    "colab": {
     "base_uri": "https://localhost:8080/",
     "height": 34
    },
    "colab_type": "code",
    "id": "9ldvQz8gyo8i",
    "outputId": "101da91f-c3ac-479c-8a0c-3777b069f3cd"
   },
   "outputs": [
    {
     "name": "stderr",
     "output_type": "stream",
     "text": [
      "Using TensorFlow backend.\n"
     ]
    }
   ],
   "source": [
    "from keras.preprocessing.text import Tokenizer\n",
    "from keras.preprocessing.sequence import pad_sequences\n",
    "from keras.utils import to_categorical\n",
    "from sklearn.model_selection import train_test_split"
   ]
  },
  {
   "cell_type": "code",
   "execution_count": 0,
   "metadata": {
    "colab": {},
    "colab_type": "code",
    "id": "WckzP5kwzc5M"
   },
   "outputs": [],
   "source": [
    "X1=dataset['reviewText'].values\n",
    "Y1=dataset['overall'].values"
   ]
  },
  {
   "cell_type": "code",
   "execution_count": 0,
   "metadata": {
    "colab": {},
    "colab_type": "code",
    "id": "UGO1XqJTBMr1"
   },
   "outputs": [],
   "source": [
    "X2=dataset2['reviewText'].values\n",
    "Y2=dataset2['overall'].values"
   ]
  },
  {
   "cell_type": "code",
   "execution_count": 0,
   "metadata": {
    "colab": {},
    "colab_type": "code",
    "id": "G1xy5WI2BTrG"
   },
   "outputs": [],
   "source": [
    "X=np.append(X1.reshape(1,-1),X2.reshape(1,-1))\n",
    "Y=np.append(Y1.reshape(1,-1),Y2.reshape(1,-1))"
   ]
  },
  {
   "cell_type": "code",
   "execution_count": 0,
   "metadata": {
    "colab": {},
    "colab_type": "code",
    "id": "E20mRmmfzsWI"
   },
   "outputs": [],
   "source": [
    "tokenizer = Tokenizer(num_words=2500,split=' ')\n",
    "tokenizer.fit_on_texts(X)"
   ]
  },
  {
   "cell_type": "code",
   "execution_count": 0,
   "metadata": {
    "colab": {},
    "colab_type": "code",
    "id": "IF2qLSPAz3FQ"
   },
   "outputs": [],
   "source": [
    "X = tokenizer.texts_to_sequences(X)\n",
    "X = pad_sequences(X)"
   ]
  },
  {
   "cell_type": "code",
   "execution_count": 0,
   "metadata": {
    "colab": {},
    "colab_type": "code",
    "id": "1sQziqqB0SXF"
   },
   "outputs": [],
   "source": [
    "Y=Y-1\n",
    "Y = to_categorical(Y)"
   ]
  },
  {
   "cell_type": "code",
   "execution_count": 0,
   "metadata": {
    "colab": {},
    "colab_type": "code",
    "id": "Jk62EP8K5oGi"
   },
   "outputs": [],
   "source": [
    "X_train, X_test, Y_train, Y_test = train_test_split(X,Y,train_size=0.8)"
   ]
  },
  {
   "cell_type": "markdown",
   "metadata": {
    "colab_type": "text",
    "id": "09p9_xniyE-P"
   },
   "source": [
    "#Model"
   ]
  },
  {
   "cell_type": "code",
   "execution_count": 0,
   "metadata": {
    "colab": {},
    "colab_type": "code",
    "id": "fKr0_RUtoxbe"
   },
   "outputs": [],
   "source": [
    "import keras \n",
    "from keras.layers import Embedding, LSTM, Bidirectional, Dense, GRU\n",
    "from keras.models import Sequential"
   ]
  },
  {
   "cell_type": "markdown",
   "metadata": {
    "colab_type": "text",
    "id": "KuKi1IcmRUJ_"
   },
   "source": [
    "##GRU"
   ]
  },
  {
   "cell_type": "code",
   "execution_count": 0,
   "metadata": {
    "colab": {
     "base_uri": "https://localhost:8080/",
     "height": 524
    },
    "colab_type": "code",
    "id": "RAlHlspORWnA",
    "outputId": "6476097f-efe8-4a70-f186-ee082f6c9f1f"
   },
   "outputs": [
    {
     "name": "stderr",
     "output_type": "stream",
     "text": [
      "WARNING: Logging before flag parsing goes to stderr.\n",
      "W0725 13:46:29.297167 140127134537600 deprecation_wrapper.py:119] From /usr/local/lib/python3.6/dist-packages/keras/backend/tensorflow_backend.py:74: The name tf.get_default_graph is deprecated. Please use tf.compat.v1.get_default_graph instead.\n",
      "\n",
      "W0725 13:46:29.340510 140127134537600 deprecation_wrapper.py:119] From /usr/local/lib/python3.6/dist-packages/keras/backend/tensorflow_backend.py:517: The name tf.placeholder is deprecated. Please use tf.compat.v1.placeholder instead.\n",
      "\n",
      "W0725 13:46:29.346644 140127134537600 deprecation_wrapper.py:119] From /usr/local/lib/python3.6/dist-packages/keras/backend/tensorflow_backend.py:4138: The name tf.random_uniform is deprecated. Please use tf.random.uniform instead.\n",
      "\n",
      "W0725 13:46:29.580720 140127134537600 deprecation_wrapper.py:119] From /usr/local/lib/python3.6/dist-packages/keras/backend/tensorflow_backend.py:133: The name tf.placeholder_with_default is deprecated. Please use tf.compat.v1.placeholder_with_default instead.\n",
      "\n",
      "W0725 13:46:29.587671 140127134537600 deprecation.py:506] From /usr/local/lib/python3.6/dist-packages/keras/backend/tensorflow_backend.py:3445: calling dropout (from tensorflow.python.ops.nn_ops) with keep_prob is deprecated and will be removed in a future version.\n",
      "Instructions for updating:\n",
      "Please use `rate` instead of `keep_prob`. Rate should be set to `rate = 1 - keep_prob`.\n",
      "W0725 13:46:29.784617 140127134537600 deprecation_wrapper.py:119] From /usr/local/lib/python3.6/dist-packages/keras/optimizers.py:790: The name tf.train.Optimizer is deprecated. Please use tf.compat.v1.train.Optimizer instead.\n",
      "\n",
      "W0725 13:46:29.803547 140127134537600 deprecation_wrapper.py:119] From /usr/local/lib/python3.6/dist-packages/keras/backend/tensorflow_backend.py:3295: The name tf.log is deprecated. Please use tf.math.log instead.\n",
      "\n"
     ]
    },
    {
     "name": "stdout",
     "output_type": "stream",
     "text": [
      "_________________________________________________________________\n",
      "Layer (type)                 Output Shape              Param #   \n",
      "=================================================================\n",
      "embedding_1 (Embedding)      (None, 2440, 128)         320000    \n",
      "_________________________________________________________________\n",
      "gru_1 (GRU)                  (None, 30)                14310     \n",
      "_________________________________________________________________\n",
      "dense_1 (Dense)              (None, 5)                 155       \n",
      "=================================================================\n",
      "Total params: 334,465\n",
      "Trainable params: 334,465\n",
      "Non-trainable params: 0\n",
      "_________________________________________________________________\n"
     ]
    }
   ],
   "source": [
    "model = Sequential()\n",
    "model.add(Embedding(2500,128,input_length=X.shape[1],dropout=0.2))\n",
    "model.add(GRU(30, dropout_U=0.2,dropout_W=0.2))\n",
    "model.add(Dense(5,activation='softmax'))\n",
    "model.compile(loss=keras.losses.categorical_crossentropy,optimizer='adam',metrics=['accuracy'])\n",
    "model.summary()"
   ]
  },
  {
   "cell_type": "code",
   "execution_count": 0,
   "metadata": {
    "colab": {
     "base_uri": "https://localhost:8080/",
     "height": 440
    },
    "colab_type": "code",
    "id": "ot8KGOHERev5",
    "outputId": "2ae46cd6-d7bd-4f8c-e199-475796d5cdef"
   },
   "outputs": [
    {
     "name": "stderr",
     "output_type": "stream",
     "text": [
      "W0725 13:46:33.480176 140127134537600 deprecation.py:323] From /usr/local/lib/python3.6/dist-packages/tensorflow/python/ops/math_grad.py:1250: add_dispatch_support.<locals>.wrapper (from tensorflow.python.ops.array_ops) is deprecated and will be removed in a future version.\n",
      "Instructions for updating:\n",
      "Use tf.where in 2.0, which has the same broadcast rule as np.where\n"
     ]
    },
    {
     "name": "stdout",
     "output_type": "stream",
     "text": [
      "Train on 30327 samples, validate on 7582 samples\n",
      "Epoch 1/10\n",
      "30327/30327 [==============================] - 235s 8ms/step - loss: 1.2922 - acc: 0.5693 - val_loss: 1.1140 - val_acc: 0.5840\n",
      "Epoch 2/10\n",
      "30327/30327 [==============================] - 230s 8ms/step - loss: 1.0800 - acc: 0.5878 - val_loss: 1.0527 - val_acc: 0.5876\n",
      "Epoch 3/10\n",
      "30327/30327 [==============================] - 230s 8ms/step - loss: 1.0167 - acc: 0.6000 - val_loss: 1.0111 - val_acc: 0.5942\n",
      "Epoch 4/10\n",
      "30327/30327 [==============================] - 258s 9ms/step - loss: 0.9689 - acc: 0.6141 - val_loss: 0.9900 - val_acc: 0.5984\n",
      "Epoch 5/10\n",
      "30327/30327 [==============================] - 343s 11ms/step - loss: 0.9265 - acc: 0.6303 - val_loss: 0.9711 - val_acc: 0.6031\n",
      "Epoch 6/10\n",
      "30327/30327 [==============================] - 346s 11ms/step - loss: 0.8875 - acc: 0.6451 - val_loss: 0.9599 - val_acc: 0.6037\n",
      "Epoch 7/10\n",
      "30327/30327 [==============================] - 342s 11ms/step - loss: 0.8612 - acc: 0.6552 - val_loss: 0.9501 - val_acc: 0.6146\n",
      "Epoch 8/10\n",
      "30327/30327 [==============================] - 341s 11ms/step - loss: 0.8340 - acc: 0.6666 - val_loss: 0.9430 - val_acc: 0.6137\n",
      "Epoch 9/10\n",
      "30327/30327 [==============================] - 342s 11ms/step - loss: 0.8120 - acc: 0.6734 - val_loss: 0.9403 - val_acc: 0.6138\n",
      "Epoch 10/10\n",
      "30327/30327 [==============================] - 340s 11ms/step - loss: 0.7945 - acc: 0.6792 - val_loss: 0.9378 - val_acc: 0.6154\n"
     ]
    }
   ],
   "source": [
    "history=model.fit(X_train,Y_train,epochs=10,validation_split=0.2,batch_size=500)"
   ]
  },
  {
   "cell_type": "code",
   "execution_count": 0,
   "metadata": {
    "colab": {
     "base_uri": "https://localhost:8080/",
     "height": 286
    },
    "colab_type": "code",
    "id": "Z7MFfiQLEbOa",
    "outputId": "54ff210a-6441-40c4-b110-8d35113d056f"
   },
   "outputs": [
    {
     "data": {
      "text/plain": [
       "[<matplotlib.lines.Line2D at 0x7f71782dc4e0>]"
      ]
     },
     "execution_count": 43,
     "metadata": {
      "tags": []
     },
     "output_type": "execute_result"
    },
    {
     "data": {
      "image/png": "[encoded data removed]",
      "text/plain": [
       "<Figure size 432x288 with 1 Axes>"
      ]
     },
     "metadata": {
      "tags": []
     },
     "output_type": "display_data"
    }
   ],
   "source": [
    "\n",
    "plt.plot(history.history['acc'])\n",
    "plt.plot(history.history['val_acc'])"
   ]
  },
  {
   "cell_type": "code",
   "execution_count": 0,
   "metadata": {
    "colab": {
     "base_uri": "https://localhost:8080/",
     "height": 50
    },
    "colab_type": "code",
    "id": "cDF3_Q-MQHWB",
    "outputId": "49456d0b-ce93-4477-9e38-189e7ab1471b"
   },
   "outputs": [
    {
     "name": "stdout",
     "output_type": "stream",
     "text": [
      "9478/9478 [==============================] - 615s 65ms/step\n"
     ]
    },
    {
     "data": {
      "text/plain": [
       "[0.9106569707481689, 0.6268200042202996]"
      ]
     },
     "execution_count": 46,
     "metadata": {
      "tags": []
     },
     "output_type": "execute_result"
    }
   ],
   "source": [
    "model.evaluate(X_test,Y_test)"
   ]
  },
  {
   "cell_type": "code",
   "execution_count": 0,
   "metadata": {
    "colab": {
     "base_uri": "https://localhost:8080/",
     "height": 286
    },
    "colab_type": "code",
    "id": "I8U7JiUdTfni",
    "outputId": "3be81c08-e3a7-4ee0-f51f-25dc35688bd5"
   },
   "outputs": [
    {
     "data": {
      "text/plain": [
       "[<matplotlib.lines.Line2D at 0x7f4f26f9d208>]"
      ]
     },
     "execution_count": 19,
     "metadata": {
      "tags": []
     },
     "output_type": "execute_result"
    },
    {
     "data": {
      "image/png": "[encoded data removed]",
      "text/plain": [
       "<Figure size 432x288 with 1 Axes>"
      ]
     },
     "metadata": {
      "tags": []
     },
     "output_type": "display_data"
    }
   ],
   "source": [
    "plt.plot(history.history['loss'])\n",
    "plt.plot(history.history['val_loss'])"
   ]
  },
  {
   "cell_type": "markdown",
   "metadata": {
    "colab_type": "text",
    "id": "PWOZSwCp7D4s"
   },
   "source": [
    "##Simple LSTM"
   ]
  },
  {
   "cell_type": "code",
   "execution_count": 0,
   "metadata": {
    "colab": {
     "base_uri": "https://localhost:8080/",
     "height": 235
    },
    "colab_type": "code",
    "id": "llQ-liJ8yBYZ",
    "outputId": "ad6e7986-41cc-4115-c8f8-fcf2f4341b36"
   },
   "outputs": [
    {
     "name": "stdout",
     "output_type": "stream",
     "text": [
      "_________________________________________________________________\n",
      "Layer (type)                 Output Shape              Param #   \n",
      "=================================================================\n",
      "embedding_2 (Embedding)      (None, 2488, 128)         320000    \n",
      "_________________________________________________________________\n",
      "lstm_2 (LSTM)                (None, 60)                45360     \n",
      "_________________________________________________________________\n",
      "dense_2 (Dense)              (None, 5)                 305       \n",
      "=================================================================\n",
      "Total params: 365,665\n",
      "Trainable params: 365,665\n",
      "Non-trainable params: 0\n",
      "_________________________________________________________________\n"
     ]
    }
   ],
   "source": [
    "model = Sequential()\n",
    "model.add(Embedding(2500,128,input_length=X.shape[1],dropout=0.2))\n",
    "model.add(LSTM(60, dropout_U=0.2,dropout_W=0.2))\n",
    "model.add(Dense(5,activation='softmax'))\n",
    "model.compile(loss=keras.losses.categorical_crossentropy,optimizer='adam',metrics=['accuracy'])\n",
    "model.summary()"
   ]
  },
  {
   "cell_type": "code",
   "execution_count": 0,
   "metadata": {
    "colab": {
     "base_uri": "https://localhost:8080/",
     "height": 370
    },
    "colab_type": "code",
    "id": "EJdWGeT5572h",
    "outputId": "367d15d2-c6e2-4d18-d094-6c7f486c5ace"
   },
   "outputs": [
    {
     "name": "stdout",
     "output_type": "stream",
     "text": [
      "Train on 29700 samples, validate on 7426 samples\n",
      "Epoch 1/10\n",
      "29700/29700 [==============================] - 289s 10ms/step - loss: 1.2524 - acc: 0.5550 - val_loss: 1.0968 - val_acc: 0.5602\n",
      "Epoch 2/10\n",
      "29700/29700 [==============================] - 287s 10ms/step - loss: 1.0229 - acc: 0.5837 - val_loss: 0.9890 - val_acc: 0.5905\n",
      "Epoch 3/10\n",
      "29700/29700 [==============================] - 287s 10ms/step - loss: 0.9498 - acc: 0.6065 - val_loss: 0.9593 - val_acc: 0.5978\n",
      "Epoch 4/10\n",
      "29700/29700 [==============================] - 287s 10ms/step - loss: 0.9161 - acc: 0.6249 - val_loss: 0.9391 - val_acc: 0.6128\n",
      "Epoch 5/10\n",
      "29700/29700 [==============================] - 287s 10ms/step - loss: 0.8755 - acc: 0.6389 - val_loss: 0.9208 - val_acc: 0.6213\n",
      "Epoch 6/10\n",
      "29700/29700 [==============================] - 288s 10ms/step - loss: 0.8453 - acc: 0.6544 - val_loss: 0.9178 - val_acc: 0.6232\n",
      "Epoch 7/10\n",
      "29700/29700 [==============================] - 288s 10ms/step - loss: 0.8252 - acc: 0.6618 - val_loss: 0.9219 - val_acc: 0.6193\n",
      "Epoch 8/10\n",
      "29700/29700 [==============================] - 286s 10ms/step - loss: 0.8079 - acc: 0.6679 - val_loss: 0.9494 - val_acc: 0.6246\n",
      "Epoch 9/10\n",
      "29700/29700 [==============================] - 288s 10ms/step - loss: 0.7956 - acc: 0.6753 - val_loss: 0.9363 - val_acc: 0.6270\n",
      "Epoch 10/10\n",
      "29700/29700 [==============================] - 288s 10ms/step - loss: 0.7781 - acc: 0.6859 - val_loss: 0.9435 - val_acc: 0.6155\n"
     ]
    }
   ],
   "source": [
    "history=model.fit(X_train,Y_train,epochs=10,validation_data=(X_test,Y_test),batch_size=500)"
   ]
  },
  {
   "cell_type": "code",
   "execution_count": 0,
   "metadata": {
    "colab": {
     "base_uri": "https://localhost:8080/",
     "height": 286
    },
    "colab_type": "code",
    "id": "cdy9wp5FBpw1",
    "outputId": "7abec669-7a42-4be1-d697-39481d9cb331"
   },
   "outputs": [
    {
     "data": {
      "text/plain": [
       "[<matplotlib.lines.Line2D at 0x7fdf5af11cf8>]"
      ]
     },
     "execution_count": 21,
     "metadata": {
      "tags": []
     },
     "output_type": "execute_result"
    },
    {
     "data": {
      "image/png": "[encoded data removed]",
      "text/plain": [
       "<Figure size 432x288 with 1 Axes>"
      ]
     },
     "metadata": {
      "tags": []
     },
     "output_type": "display_data"
    }
   ],
   "source": [
    "plt.plot(history.history['loss'])\n",
    "plt.plot(history.history['val_loss'])"
   ]
  },
  {
   "cell_type": "code",
   "execution_count": 0,
   "metadata": {
    "colab": {
     "base_uri": "https://localhost:8080/",
     "height": 286
    },
    "colab_type": "code",
    "id": "GMwVRew9qITK",
    "outputId": "368a8ad3-c2ae-4e53-a414-0af7570b61bd"
   },
   "outputs": [
    {
     "data": {
      "text/plain": [
       "[<matplotlib.lines.Line2D at 0x7fdf5ae8b1d0>]"
      ]
     },
     "execution_count": 22,
     "metadata": {
      "tags": []
     },
     "output_type": "execute_result"
    },
    {
     "data": {
      "image/png": "[encoded data removed]",
      "text/plain": [
       "<Figure size 432x288 with 1 Axes>"
      ]
     },
     "metadata": {
      "tags": []
     },
     "output_type": "display_data"
    }
   ],
   "source": [
    "plt.plot(history.history['acc'])\n",
    "plt.plot(history.history['val_acc'])"
   ]
  },
  {
   "cell_type": "markdown",
   "metadata": {
    "colab_type": "text",
    "id": "ujDduwe38zFK"
   },
   "source": [
    "##Bidirectional LSTM"
   ]
  },
  {
   "cell_type": "code",
   "execution_count": 0,
   "metadata": {
    "colab": {
     "base_uri": "https://localhost:8080/",
     "height": 235
    },
    "colab_type": "code",
    "id": "PH-steBs81cy",
    "outputId": "52fe0e65-73d5-47b6-faa9-cf0ad4541802"
   },
   "outputs": [
    {
     "name": "stdout",
     "output_type": "stream",
     "text": [
      "_________________________________________________________________\n",
      "Layer (type)                 Output Shape              Param #   \n",
      "=================================================================\n",
      "embedding_2 (Embedding)      (None, 1844, 128)         320000    \n",
      "_________________________________________________________________\n",
      "bidirectional_2 (Bidirection (None, 20)                11120     \n",
      "_________________________________________________________________\n",
      "dense_2 (Dense)              (None, 5)                 105       \n",
      "=================================================================\n",
      "Total params: 331,225\n",
      "Trainable params: 331,225\n",
      "Non-trainable params: 0\n",
      "_________________________________________________________________\n"
     ]
    }
   ],
   "source": [
    "model = Sequential()\n",
    "model.add(Embedding(2500,128,input_length=X.shape[1],dropout=0.2))\n",
    "model.add(Bidirectional(LSTM(10, dropout_U=0.2,dropout_W=0.2)))\n",
    "model.add(Dense(5,activation='softmax'))\n",
    "model.compile(loss=keras.losses.categorical_crossentropy,optimizer='adam',metrics=['accuracy'])\n",
    "model.summary()"
   ]
  },
  {
   "cell_type": "code",
   "execution_count": 0,
   "metadata": {
    "colab": {
     "base_uri": "https://localhost:8080/",
     "height": 353
    },
    "colab_type": "code",
    "id": "HBoQ1WFT9Qtx",
    "outputId": "8b3df3d5-a104-41e8-c0bf-17e95570dbc1"
   },
   "outputs": [
    {
     "name": "stdout",
     "output_type": "stream",
     "text": [
      "Epoch 1/10\n",
      "8208/8208 [==============================] - 136s 17ms/step - loss: 1.4592 - acc: 0.6220\n",
      "Epoch 2/10\n",
      "8208/8208 [==============================] - 135s 16ms/step - loss: 1.0851 - acc: 0.6774\n",
      "Epoch 3/10\n",
      "8208/8208 [==============================] - 135s 16ms/step - loss: 0.9580 - acc: 0.6774\n",
      "Epoch 4/10\n",
      "8208/8208 [==============================] - 136s 17ms/step - loss: 0.9415 - acc: 0.6774\n",
      "Epoch 5/10\n",
      "8208/8208 [==============================] - 137s 17ms/step - loss: 0.9318 - acc: 0.6774\n",
      "Epoch 6/10\n",
      "8208/8208 [==============================] - 138s 17ms/step - loss: 0.9200 - acc: 0.6774\n",
      "Epoch 7/10\n",
      "8208/8208 [==============================] - 136s 17ms/step - loss: 0.9018 - acc: 0.6774\n",
      "Epoch 8/10\n",
      "8208/8208 [==============================] - 136s 17ms/step - loss: 0.8796 - acc: 0.6774\n",
      "Epoch 9/10\n",
      "8208/8208 [==============================] - 136s 17ms/step - loss: 0.8560 - acc: 0.6774\n",
      "Epoch 10/10\n",
      "8208/8208 [==============================] - 136s 17ms/step - loss: 0.8313 - acc: 0.6774\n"
     ]
    }
   ],
   "source": [
    "history=model.fit(X_train,Y_train,epochs=10,batch_size=500)"
   ]
  },
  {
   "cell_type": "code",
   "execution_count": 0,
   "metadata": {
    "colab": {
     "base_uri": "https://localhost:8080/",
     "height": 286
    },
    "colab_type": "code",
    "id": "BJxt3VHZIwKC",
    "outputId": "651c66e7-40ab-4e67-9a87-5bc6f8892e94"
   },
   "outputs": [
    {
     "data": {
      "text/plain": [
       "[<matplotlib.lines.Line2D at 0x7f056ae28978>]"
      ]
     },
     "execution_count": 17,
     "metadata": {
      "tags": []
     },
     "output_type": "execute_result"
    },
    {
     "data": {
      "image/png": "[encoded data removed]",
      "text/plain": [
       "<Figure size 432x288 with 1 Axes>"
      ]
     },
     "metadata": {
      "tags": []
     },
     "output_type": "display_data"
    }
   ],
   "source": [
    "plt.plot(history.history['loss'])"
   ]
  }
 ],
 "metadata": {
  "accelerator": "GPU",
  "colab": {
   "collapsed_sections": [],
   "include_colab_link": true,
   "machine_shape": "hm",
   "name": "LSTM 60 - Sentiment Analysis.ipynb",
   "provenance": [],
   "toc_visible": true,
   "version": "0.3.2"
  },
  "kernelspec": {
   "display_name": "Python 3",
   "language": "python",
   "name": "python3"
  },
  "language_info": {
   "codemirror_mode": {
    "name": "ipython",
    "version": 3
   },
   "file_extension": ".py",
   "mimetype": "text/x-python",
   "name": "python",
   "nbconvert_exporter": "python",
   "pygments_lexer": "ipython3",
   "version": "3.7.1"
  }
 },
 "nbformat": 4,
 "nbformat_minor": 1
}
