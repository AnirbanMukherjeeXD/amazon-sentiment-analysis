{
  "nbformat": 4,
  "nbformat_minor": 0,
  "metadata": {
    "colab": {
      "name": "LSTM 30- Sentiment Analysis.ipynb",
      "version": "0.3.2",
      "provenance": [],
      "collapsed_sections": [],
      "toc_visible": true,
      "machine_shape": "hm",
      "include_colab_link": true
    },
    "kernelspec": {
      "name": "python3",
      "display_name": "Python 3"
    },
    "accelerator": "GPU"
  },
  "cells": [
    {
      "cell_type": "markdown",
      "metadata": {
        "id": "view-in-github",
        "colab_type": "text"
      },
      "source": [
        "<a href=\"https://colab.research.google.com/github/AnirbanMukherjeeXD/amazon-sentiment-analysis/blob/master/LSTM_30_Sentiment_Analysis.ipynb\" target=\"_parent\"><img src=\"https://colab.research.google.com/assets/colab-badge.svg\" alt=\"Open In Colab\"/></a>"
      ]
    },
    {
      "cell_type": "code",
      "metadata": {
        "id": "QGRbeZfe6Mlb",
        "colab_type": "code",
        "colab": {}
      },
      "source": [
        "import warnings\n",
        "warnings.filterwarnings('ignore')"
      ],
      "execution_count": 0,
      "outputs": []
    },
    {
      "cell_type": "code",
      "metadata": {
        "id": "2KkL8Pxbt2Sg",
        "colab_type": "code",
        "colab": {}
      },
      "source": [
        "import numpy as np\n",
        "import pandas as pd\n",
        "import seaborn as sns\n",
        "import matplotlib.pyplot as plt"
      ],
      "execution_count": 0,
      "outputs": []
    },
    {
      "cell_type": "markdown",
      "metadata": {
        "id": "3xm6KqF5yrxj",
        "colab_type": "text"
      },
      "source": [
        "#Dataset"
      ]
    },
    {
      "cell_type": "code",
      "metadata": {
        "id": "rNCIFAz64YHr",
        "colab_type": "code",
        "outputId": "e4e5afdd-327e-47b0-fbbe-edaa1094769c",
        "colab": {
          "base_uri": "https://localhost:8080/",
          "height": 195
        }
      },
      "source": [
        "dataset=pd.read_json('https://raw.githubusercontent.com/AnirbanMukherjeeXD/amazon-sentiment-analysis/master/dataset/Amazon_Instant_Video_5.json?token=AIJPU64KFFGET5BHPE3UMN25ILUTA',lines=True).loc[:,['overall','reviewText']]\n",
        "dataset.head()"
      ],
      "execution_count": 0,
      "outputs": [
        {
          "output_type": "execute_result",
          "data": {
            "text/html": [
              "<div>\n",
              "<style scoped>\n",
              "    .dataframe tbody tr th:only-of-type {\n",
              "        vertical-align: middle;\n",
              "    }\n",
              "\n",
              "    .dataframe tbody tr th {\n",
              "        vertical-align: top;\n",
              "    }\n",
              "\n",
              "    .dataframe thead th {\n",
              "        text-align: right;\n",
              "    }\n",
              "</style>\n",
              "<table border=\"1\" class=\"dataframe\">\n",
              "  <thead>\n",
              "    <tr style=\"text-align: right;\">\n",
              "      <th></th>\n",
              "      <th>overall</th>\n",
              "      <th>reviewText</th>\n",
              "    </tr>\n",
              "  </thead>\n",
              "  <tbody>\n",
              "    <tr>\n",
              "      <th>0</th>\n",
              "      <td>2</td>\n",
              "      <td>I had big expectations because I love English ...</td>\n",
              "    </tr>\n",
              "    <tr>\n",
              "      <th>1</th>\n",
              "      <td>5</td>\n",
              "      <td>I highly recommend this series. It is a must f...</td>\n",
              "    </tr>\n",
              "    <tr>\n",
              "      <th>2</th>\n",
              "      <td>1</td>\n",
              "      <td>This one is a real snoozer. Don't believe anyt...</td>\n",
              "    </tr>\n",
              "    <tr>\n",
              "      <th>3</th>\n",
              "      <td>4</td>\n",
              "      <td>Mysteries are interesting.  The tension betwee...</td>\n",
              "    </tr>\n",
              "    <tr>\n",
              "      <th>4</th>\n",
              "      <td>5</td>\n",
              "      <td>This show always is excellent, as far as briti...</td>\n",
              "    </tr>\n",
              "  </tbody>\n",
              "</table>\n",
              "</div>"
            ],
            "text/plain": [
              "   overall                                         reviewText\n",
              "0        2  I had big expectations because I love English ...\n",
              "1        5  I highly recommend this series. It is a must f...\n",
              "2        1  This one is a real snoozer. Don't believe anyt...\n",
              "3        4  Mysteries are interesting.  The tension betwee...\n",
              "4        5  This show always is excellent, as far as briti..."
            ]
          },
          "metadata": {
            "tags": []
          },
          "execution_count": 3
        }
      ]
    },
    {
      "cell_type": "code",
      "metadata": {
        "id": "B_JPvKoFt0Lp",
        "colab_type": "code",
        "outputId": "31734dc2-d5be-4f08-f88b-84d79f7411bb",
        "colab": {
          "base_uri": "https://localhost:8080/",
          "height": 195
        }
      },
      "source": [
        "dataset2=pd.read_json('https://raw.githubusercontent.com/AnirbanMukherjeeXD/amazon-sentiment-analysis/master/dataset/Musical_Instruments_5.json?token=AIJPU64JB3LPJO2NWXOHZF25IELI6',lines=True).loc[:,['overall','reviewText']]\n",
        "dataset2.head()"
      ],
      "execution_count": 0,
      "outputs": [
        {
          "output_type": "execute_result",
          "data": {
            "text/html": [
              "<div>\n",
              "<style scoped>\n",
              "    .dataframe tbody tr th:only-of-type {\n",
              "        vertical-align: middle;\n",
              "    }\n",
              "\n",
              "    .dataframe tbody tr th {\n",
              "        vertical-align: top;\n",
              "    }\n",
              "\n",
              "    .dataframe thead th {\n",
              "        text-align: right;\n",
              "    }\n",
              "</style>\n",
              "<table border=\"1\" class=\"dataframe\">\n",
              "  <thead>\n",
              "    <tr style=\"text-align: right;\">\n",
              "      <th></th>\n",
              "      <th>overall</th>\n",
              "      <th>reviewText</th>\n",
              "    </tr>\n",
              "  </thead>\n",
              "  <tbody>\n",
              "    <tr>\n",
              "      <th>0</th>\n",
              "      <td>5</td>\n",
              "      <td>Not much to write about here, but it does exac...</td>\n",
              "    </tr>\n",
              "    <tr>\n",
              "      <th>1</th>\n",
              "      <td>5</td>\n",
              "      <td>The product does exactly as it should and is q...</td>\n",
              "    </tr>\n",
              "    <tr>\n",
              "      <th>2</th>\n",
              "      <td>5</td>\n",
              "      <td>The primary job of this device is to block the...</td>\n",
              "    </tr>\n",
              "    <tr>\n",
              "      <th>3</th>\n",
              "      <td>5</td>\n",
              "      <td>Nice windscreen protects my MXL mic and preven...</td>\n",
              "    </tr>\n",
              "    <tr>\n",
              "      <th>4</th>\n",
              "      <td>5</td>\n",
              "      <td>This pop filter is great. It looks and perform...</td>\n",
              "    </tr>\n",
              "  </tbody>\n",
              "</table>\n",
              "</div>"
            ],
            "text/plain": [
              "   overall                                         reviewText\n",
              "0        5  Not much to write about here, but it does exac...\n",
              "1        5  The product does exactly as it should and is q...\n",
              "2        5  The primary job of this device is to block the...\n",
              "3        5  Nice windscreen protects my MXL mic and preven...\n",
              "4        5  This pop filter is great. It looks and perform..."
            ]
          },
          "metadata": {
            "tags": []
          },
          "execution_count": 4
        }
      ]
    },
    {
      "cell_type": "code",
      "metadata": {
        "id": "CdErjklPwGEv",
        "colab_type": "code",
        "outputId": "9b28d4a8-9e01-41a6-c844-61f6f83a2d2f",
        "colab": {
          "base_uri": "https://localhost:8080/",
          "height": 300
        }
      },
      "source": [
        "sns.countplot(dataset['overall'])"
      ],
      "execution_count": 0,
      "outputs": [
        {
          "output_type": "execute_result",
          "data": {
            "text/plain": [
              "<matplotlib.axes._subplots.AxesSubplot at 0x7f4f531c67f0>"
            ]
          },
          "metadata": {
            "tags": []
          },
          "execution_count": 9
        },
        {
          "output_type": "display_data",
          "data": {
            "image/png": "[encoded data removed]",
            "text/plain": [
              "<Figure size 432x288 with 1 Axes>"
            ]
          },
          "metadata": {
            "tags": []
          }
        }
      ]
    },
    {
      "cell_type": "markdown",
      "metadata": {
        "id": "5bhegQayyngK",
        "colab_type": "text"
      },
      "source": [
        "#Preprocessing"
      ]
    },
    {
      "cell_type": "code",
      "metadata": {
        "id": "9ldvQz8gyo8i",
        "colab_type": "code",
        "outputId": "c8ab7f22-384f-475c-9c38-68320ea57cba",
        "colab": {
          "base_uri": "https://localhost:8080/",
          "height": 34
        }
      },
      "source": [
        "from keras.preprocessing.text import Tokenizer\n",
        "from keras.preprocessing.sequence import pad_sequences\n",
        "from keras.utils import to_categorical\n",
        "from sklearn.model_selection import train_test_split"
      ],
      "execution_count": 0,
      "outputs": [
        {
          "output_type": "stream",
          "text": [
            "Using TensorFlow backend.\n"
          ],
          "name": "stderr"
        }
      ]
    },
    {
      "cell_type": "code",
      "metadata": {
        "id": "WckzP5kwzc5M",
        "colab_type": "code",
        "colab": {}
      },
      "source": [
        "X1=dataset['reviewText'].values\n",
        "Y1=dataset['overall'].values"
      ],
      "execution_count": 0,
      "outputs": []
    },
    {
      "cell_type": "code",
      "metadata": {
        "id": "UGO1XqJTBMr1",
        "colab_type": "code",
        "colab": {}
      },
      "source": [
        "X2=dataset2['reviewText'].values\n",
        "Y2=dataset2['overall'].values"
      ],
      "execution_count": 0,
      "outputs": []
    },
    {
      "cell_type": "code",
      "metadata": {
        "id": "G1xy5WI2BTrG",
        "colab_type": "code",
        "colab": {}
      },
      "source": [
        "X=np.append(X1.reshape(1,-1),X2.reshape(1,-1))\n",
        "Y=np.append(Y1.reshape(1,-1),Y2.reshape(1,-1))"
      ],
      "execution_count": 0,
      "outputs": []
    },
    {
      "cell_type": "code",
      "metadata": {
        "id": "E20mRmmfzsWI",
        "colab_type": "code",
        "colab": {}
      },
      "source": [
        "tokenizer = Tokenizer(num_words=2500,split=' ')\n",
        "tokenizer.fit_on_texts(X)"
      ],
      "execution_count": 0,
      "outputs": []
    },
    {
      "cell_type": "code",
      "metadata": {
        "id": "IF2qLSPAz3FQ",
        "colab_type": "code",
        "colab": {}
      },
      "source": [
        "X = tokenizer.texts_to_sequences(X)\n",
        "X = pad_sequences(X)"
      ],
      "execution_count": 0,
      "outputs": []
    },
    {
      "cell_type": "code",
      "metadata": {
        "id": "1sQziqqB0SXF",
        "colab_type": "code",
        "colab": {}
      },
      "source": [
        "Y=Y-1\n",
        "Y = to_categorical(Y)"
      ],
      "execution_count": 0,
      "outputs": []
    },
    {
      "cell_type": "code",
      "metadata": {
        "id": "Jk62EP8K5oGi",
        "colab_type": "code",
        "colab": {}
      },
      "source": [
        "X_train, X_test, Y_train, Y_test = train_test_split(X,Y,train_size=0.8)"
      ],
      "execution_count": 0,
      "outputs": []
    },
    {
      "cell_type": "markdown",
      "metadata": {
        "id": "09p9_xniyE-P",
        "colab_type": "text"
      },
      "source": [
        "#Model"
      ]
    },
    {
      "cell_type": "code",
      "metadata": {
        "id": "fKr0_RUtoxbe",
        "colab_type": "code",
        "colab": {}
      },
      "source": [
        "import keras \n",
        "from keras.layers import Embedding, SimpleRNN, LSTM, Bidirectional, Dense, GRU\n",
        "from keras.models import Sequential"
      ],
      "execution_count": 0,
      "outputs": []
    },
    {
      "cell_type": "markdown",
      "metadata": {
        "id": "c1W_1nrwFjbL",
        "colab_type": "text"
      },
      "source": [
        "##Simple RNN"
      ]
    },
    {
      "cell_type": "code",
      "metadata": {
        "id": "GvX8TfvgEeHM",
        "colab_type": "code",
        "colab": {
          "base_uri": "https://localhost:8080/",
          "height": 235
        },
        "outputId": "27bea6e0-303a-47c3-8d9c-03e41dc75db6"
      },
      "source": [
        "model = Sequential()\n",
        "model.add(Embedding(2500,128,input_length=X.shape[1],dropout=0.2))\n",
        "model.add(SimpleRNN((30), dropout_U=0.2,dropout_W=0.2))\n",
        "model.add(Dense(5,activation='softmax'))\n",
        "model.compile(loss=keras.losses.categorical_crossentropy,optimizer='adam',metrics=['accuracy'])\n",
        "model.summary()"
      ],
      "execution_count": 24,
      "outputs": [
        {
          "output_type": "stream",
          "text": [
            "_________________________________________________________________\n",
            "Layer (type)                 Output Shape              Param #   \n",
            "=================================================================\n",
            "embedding_7 (Embedding)      (None, 2488, 128)         320000    \n",
            "_________________________________________________________________\n",
            "simple_rnn_1 (SimpleRNN)     (None, 30)                4770      \n",
            "_________________________________________________________________\n",
            "dense_3 (Dense)              (None, 5)                 155       \n",
            "=================================================================\n",
            "Total params: 324,925\n",
            "Trainable params: 324,925\n",
            "Non-trainable params: 0\n",
            "_________________________________________________________________\n"
          ],
          "name": "stdout"
        }
      ]
    },
    {
      "cell_type": "code",
      "metadata": {
        "id": "pn8_9QlzFiZF",
        "colab_type": "code",
        "colab": {
          "base_uri": "https://localhost:8080/",
          "height": 370
        },
        "outputId": "0020328c-4a2c-45e9-dfbe-4e8108b4859c"
      },
      "source": [
        "history=model.fit(X_train,Y_train,epochs=10,validation_split=0.2,batch_size=500)"
      ],
      "execution_count": 25,
      "outputs": [
        {
          "output_type": "stream",
          "text": [
            "Train on 23760 samples, validate on 5940 samples\n",
            "Epoch 1/10\n",
            "23760/23760 [==============================] - 81s 3ms/step - loss: 1.6020 - acc: 0.2997 - val_loss: 1.3691 - val_acc: 0.5473\n",
            "Epoch 2/10\n",
            "23760/23760 [==============================] - 80s 3ms/step - loss: 1.4475 - acc: 0.4142 - val_loss: 1.2593 - val_acc: 0.5668\n",
            "Epoch 3/10\n",
            "23760/23760 [==============================] - 81s 3ms/step - loss: 1.3587 - acc: 0.4740 - val_loss: 1.2030 - val_acc: 0.5662\n",
            "Epoch 4/10\n",
            "23760/23760 [==============================] - 79s 3ms/step - loss: 1.3160 - acc: 0.5001 - val_loss: 1.1838 - val_acc: 0.5672\n",
            "Epoch 5/10\n",
            "23760/23760 [==============================] - 79s 3ms/step - loss: 1.2852 - acc: 0.5101 - val_loss: 1.1722 - val_acc: 0.5675\n",
            "Epoch 6/10\n",
            "23760/23760 [==============================] - 79s 3ms/step - loss: 1.2696 - acc: 0.5199 - val_loss: 1.1710 - val_acc: 0.5677\n",
            "Epoch 7/10\n",
            "23760/23760 [==============================] - 80s 3ms/step - loss: 1.2595 - acc: 0.5259 - val_loss: 1.1633 - val_acc: 0.5678\n",
            "Epoch 8/10\n",
            "23760/23760 [==============================] - 79s 3ms/step - loss: 1.2415 - acc: 0.5343 - val_loss: 1.1585 - val_acc: 0.5684\n",
            "Epoch 9/10\n",
            "23760/23760 [==============================] - 79s 3ms/step - loss: 1.2330 - acc: 0.5402 - val_loss: 1.1558 - val_acc: 0.5689\n",
            "Epoch 10/10\n",
            "23760/23760 [==============================] - 79s 3ms/step - loss: 1.2206 - acc: 0.5433 - val_loss: 1.1532 - val_acc: 0.5690\n"
          ],
          "name": "stdout"
        }
      ]
    },
    {
      "cell_type": "code",
      "metadata": {
        "id": "zR6DqGQaIrhR",
        "colab_type": "code",
        "colab": {
          "base_uri": "https://localhost:8080/",
          "height": 286
        },
        "outputId": "f393cfab-b86d-4b74-95cc-1590ee855295"
      },
      "source": [
        "plt.plot(history.history['acc'])\n",
        "plt.plot(history.history['val_acc'])"
      ],
      "execution_count": 26,
      "outputs": [
        {
          "output_type": "execute_result",
          "data": {
            "text/plain": [
              "[<matplotlib.lines.Line2D at 0x7fbc18bb00f0>]"
            ]
          },
          "metadata": {
            "tags": []
          },
          "execution_count": 26
        },
        {
          "output_type": "display_data",
          "data": {
            "image/png": "[encoded data removed]",
            "text/plain": [
              "<Figure size 432x288 with 1 Axes>"
            ]
          },
          "metadata": {
            "tags": []
          }
        }
      ]
    },
    {
      "cell_type": "code",
      "metadata": {
        "id": "3K8ahlKII0Al",
        "colab_type": "code",
        "colab": {
          "base_uri": "https://localhost:8080/",
          "height": 286
        },
        "outputId": "0dc689c1-09d9-4f10-a9cb-e498163b99c9"
      },
      "source": [
        "plt.plot(history.history['loss'])\n",
        "plt.plot(history.history['val_loss'])"
      ],
      "execution_count": 27,
      "outputs": [
        {
          "output_type": "execute_result",
          "data": {
            "text/plain": [
              "[<matplotlib.lines.Line2D at 0x7fbc18abe160>]"
            ]
          },
          "metadata": {
            "tags": []
          },
          "execution_count": 27
        },
        {
          "output_type": "display_data",
          "data": {
            "image/png": "[encoded data removed]",
            "text/plain": [
              "<Figure size 432x288 with 1 Axes>"
            ]
          },
          "metadata": {
            "tags": []
          }
        }
      ]
    },
    {
      "cell_type": "markdown",
      "metadata": {
        "id": "KuKi1IcmRUJ_",
        "colab_type": "text"
      },
      "source": [
        "##GRU"
      ]
    },
    {
      "cell_type": "code",
      "metadata": {
        "id": "RAlHlspORWnA",
        "colab_type": "code",
        "outputId": "6476097f-efe8-4a70-f186-ee082f6c9f1f",
        "colab": {
          "base_uri": "https://localhost:8080/",
          "height": 524
        }
      },
      "source": [
        "model = Sequential()\n",
        "model.add(Embedding(2500,128,input_length=X.shape[1],dropout=0.2))\n",
        "model.add(GRU(30, dropout_U=0.2,dropout_W=0.2))\n",
        "model.add(Dense(5,activation='softmax'))\n",
        "model.compile(loss=keras.losses.categorical_crossentropy,optimizer='adam',metrics=['accuracy'])\n",
        "model.summary()"
      ],
      "execution_count": 0,
      "outputs": [
        {
          "output_type": "stream",
          "text": [
            "WARNING: Logging before flag parsing goes to stderr.\n",
            "W0725 13:46:29.297167 140127134537600 deprecation_wrapper.py:119] From /usr/local/lib/python3.6/dist-packages/keras/backend/tensorflow_backend.py:74: The name tf.get_default_graph is deprecated. Please use tf.compat.v1.get_default_graph instead.\n",
            "\n",
            "W0725 13:46:29.340510 140127134537600 deprecation_wrapper.py:119] From /usr/local/lib/python3.6/dist-packages/keras/backend/tensorflow_backend.py:517: The name tf.placeholder is deprecated. Please use tf.compat.v1.placeholder instead.\n",
            "\n",
            "W0725 13:46:29.346644 140127134537600 deprecation_wrapper.py:119] From /usr/local/lib/python3.6/dist-packages/keras/backend/tensorflow_backend.py:4138: The name tf.random_uniform is deprecated. Please use tf.random.uniform instead.\n",
            "\n",
            "W0725 13:46:29.580720 140127134537600 deprecation_wrapper.py:119] From /usr/local/lib/python3.6/dist-packages/keras/backend/tensorflow_backend.py:133: The name tf.placeholder_with_default is deprecated. Please use tf.compat.v1.placeholder_with_default instead.\n",
            "\n",
            "W0725 13:46:29.587671 140127134537600 deprecation.py:506] From /usr/local/lib/python3.6/dist-packages/keras/backend/tensorflow_backend.py:3445: calling dropout (from tensorflow.python.ops.nn_ops) with keep_prob is deprecated and will be removed in a future version.\n",
            "Instructions for updating:\n",
            "Please use `rate` instead of `keep_prob`. Rate should be set to `rate = 1 - keep_prob`.\n",
            "W0725 13:46:29.784617 140127134537600 deprecation_wrapper.py:119] From /usr/local/lib/python3.6/dist-packages/keras/optimizers.py:790: The name tf.train.Optimizer is deprecated. Please use tf.compat.v1.train.Optimizer instead.\n",
            "\n",
            "W0725 13:46:29.803547 140127134537600 deprecation_wrapper.py:119] From /usr/local/lib/python3.6/dist-packages/keras/backend/tensorflow_backend.py:3295: The name tf.log is deprecated. Please use tf.math.log instead.\n",
            "\n"
          ],
          "name": "stderr"
        },
        {
          "output_type": "stream",
          "text": [
            "_________________________________________________________________\n",
            "Layer (type)                 Output Shape              Param #   \n",
            "=================================================================\n",
            "embedding_1 (Embedding)      (None, 2440, 128)         320000    \n",
            "_________________________________________________________________\n",
            "gru_1 (GRU)                  (None, 30)                14310     \n",
            "_________________________________________________________________\n",
            "dense_1 (Dense)              (None, 5)                 155       \n",
            "=================================================================\n",
            "Total params: 334,465\n",
            "Trainable params: 334,465\n",
            "Non-trainable params: 0\n",
            "_________________________________________________________________\n"
          ],
          "name": "stdout"
        }
      ]
    },
    {
      "cell_type": "code",
      "metadata": {
        "id": "ot8KGOHERev5",
        "colab_type": "code",
        "outputId": "2ae46cd6-d7bd-4f8c-e199-475796d5cdef",
        "colab": {
          "base_uri": "https://localhost:8080/",
          "height": 238
        }
      },
      "source": [
        "history=model.fit(X_train,Y_train,epochs=10,validation_split=0.2,batch_size=500)"
      ],
      "execution_count": 0,
      "outputs": [
        {
          "output_type": "stream",
          "text": [
            "W0725 13:46:33.480176 140127134537600 deprecation.py:323] From /usr/local/lib/python3.6/dist-packages/tensorflow/python/ops/math_grad.py:1250: add_dispatch_support.<locals>.wrapper (from tensorflow.python.ops.array_ops) is deprecated and will be removed in a future version.\n",
            "Instructions for updating:\n",
            "Use tf.where in 2.0, which has the same broadcast rule as np.where\n"
          ],
          "name": "stderr"
        },
        {
          "output_type": "stream",
          "text": [
            "Train on 30327 samples, validate on 7582 samples\n",
            "Epoch 1/10\n",
            "30327/30327 [==============================] - 235s 8ms/step - loss: 1.2922 - acc: 0.5693 - val_loss: 1.1140 - val_acc: 0.5840\n",
            "Epoch 2/10\n",
            "30327/30327 [==============================] - 230s 8ms/step - loss: 1.0800 - acc: 0.5878 - val_loss: 1.0527 - val_acc: 0.5876\n",
            "Epoch 3/10\n",
            "30327/30327 [==============================] - 230s 8ms/step - loss: 1.0167 - acc: 0.6000 - val_loss: 1.0111 - val_acc: 0.5942\n",
            "Epoch 4/10\n",
            "11500/30327 [==========>...................] - ETA: 2:09 - loss: 0.9733 - acc: 0.6168"
          ],
          "name": "stdout"
        }
      ]
    },
    {
      "cell_type": "code",
      "metadata": {
        "id": "Z7MFfiQLEbOa",
        "colab_type": "code",
        "outputId": "613d0699-2d0d-466d-f596-10e4ed56f891",
        "colab": {
          "base_uri": "https://localhost:8080/",
          "height": 286
        }
      },
      "source": [
        "\n",
        "plt.plot(history.history['acc'])\n",
        "plt.plot(history.history['val_acc'])"
      ],
      "execution_count": 0,
      "outputs": [
        {
          "output_type": "execute_result",
          "data": {
            "text/plain": [
              "[<matplotlib.lines.Line2D at 0x7f4f2015e908>]"
            ]
          },
          "metadata": {
            "tags": []
          },
          "execution_count": 20
        },
        {
          "output_type": "display_data",
          "data": {
            "image/png": "[encoded data removed]",
            "text/plain": [
              "<Figure size 432x288 with 1 Axes>"
            ]
          },
          "metadata": {
            "tags": []
          }
        }
      ]
    },
    {
      "cell_type": "code",
      "metadata": {
        "id": "I8U7JiUdTfni",
        "colab_type": "code",
        "outputId": "3be81c08-e3a7-4ee0-f51f-25dc35688bd5",
        "colab": {
          "base_uri": "https://localhost:8080/",
          "height": 286
        }
      },
      "source": [
        "plt.plot(history.history['loss'])\n",
        "plt.plot(history.history['val_loss'])"
      ],
      "execution_count": 0,
      "outputs": [
        {
          "output_type": "execute_result",
          "data": {
            "text/plain": [
              "[<matplotlib.lines.Line2D at 0x7f4f26f9d208>]"
            ]
          },
          "metadata": {
            "tags": []
          },
          "execution_count": 19
        },
        {
          "output_type": "display_data",
          "data": {
            "image/png": "[encoded data removed]",
            "text/plain": [
              "<Figure size 432x288 with 1 Axes>"
            ]
          },
          "metadata": {
            "tags": []
          }
        }
      ]
    },
    {
      "cell_type": "markdown",
      "metadata": {
        "id": "PWOZSwCp7D4s",
        "colab_type": "text"
      },
      "source": [
        "##Simple LSTM"
      ]
    },
    {
      "cell_type": "code",
      "metadata": {
        "id": "llQ-liJ8yBYZ",
        "colab_type": "code",
        "outputId": "206274da-06de-493a-fcc4-6373c6d05345",
        "colab": {
          "base_uri": "https://localhost:8080/",
          "height": 524
        }
      },
      "source": [
        "model = Sequential()\n",
        "model.add(Embedding(2500,128,input_length=X.shape[1],dropout=0.2))\n",
        "model.add(LSTM(30, dropout_U=0.2,dropout_W=0.2))\n",
        "model.add(Dense(5,activation='softmax'))\n",
        "model.compile(loss=keras.losses.categorical_crossentropy,optimizer='adam',metrics=['accuracy'])\n",
        "model.summary()"
      ],
      "execution_count": 0,
      "outputs": [
        {
          "output_type": "stream",
          "text": [
            "WARNING: Logging before flag parsing goes to stderr.\n",
            "W0725 14:01:05.984144 140109529372544 deprecation_wrapper.py:119] From /usr/local/lib/python3.6/dist-packages/keras/backend/tensorflow_backend.py:74: The name tf.get_default_graph is deprecated. Please use tf.compat.v1.get_default_graph instead.\n",
            "\n",
            "W0725 14:01:06.002069 140109529372544 deprecation_wrapper.py:119] From /usr/local/lib/python3.6/dist-packages/keras/backend/tensorflow_backend.py:517: The name tf.placeholder is deprecated. Please use tf.compat.v1.placeholder instead.\n",
            "\n",
            "W0725 14:01:06.004803 140109529372544 deprecation_wrapper.py:119] From /usr/local/lib/python3.6/dist-packages/keras/backend/tensorflow_backend.py:4138: The name tf.random_uniform is deprecated. Please use tf.random.uniform instead.\n",
            "\n",
            "W0725 14:01:06.078225 140109529372544 deprecation_wrapper.py:119] From /usr/local/lib/python3.6/dist-packages/keras/backend/tensorflow_backend.py:133: The name tf.placeholder_with_default is deprecated. Please use tf.compat.v1.placeholder_with_default instead.\n",
            "\n",
            "W0725 14:01:06.086035 140109529372544 deprecation.py:506] From /usr/local/lib/python3.6/dist-packages/keras/backend/tensorflow_backend.py:3445: calling dropout (from tensorflow.python.ops.nn_ops) with keep_prob is deprecated and will be removed in a future version.\n",
            "Instructions for updating:\n",
            "Please use `rate` instead of `keep_prob`. Rate should be set to `rate = 1 - keep_prob`.\n",
            "W0725 14:01:06.544244 140109529372544 deprecation_wrapper.py:119] From /usr/local/lib/python3.6/dist-packages/keras/optimizers.py:790: The name tf.train.Optimizer is deprecated. Please use tf.compat.v1.train.Optimizer instead.\n",
            "\n",
            "W0725 14:01:06.569029 140109529372544 deprecation_wrapper.py:119] From /usr/local/lib/python3.6/dist-packages/keras/backend/tensorflow_backend.py:3295: The name tf.log is deprecated. Please use tf.math.log instead.\n",
            "\n"
          ],
          "name": "stderr"
        },
        {
          "output_type": "stream",
          "text": [
            "_________________________________________________________________\n",
            "Layer (type)                 Output Shape              Param #   \n",
            "=================================================================\n",
            "embedding_1 (Embedding)      (None, 2440, 128)         320000    \n",
            "_________________________________________________________________\n",
            "lstm_1 (LSTM)                (None, 30)                19080     \n",
            "_________________________________________________________________\n",
            "dense_1 (Dense)              (None, 5)                 155       \n",
            "=================================================================\n",
            "Total params: 339,235\n",
            "Trainable params: 339,235\n",
            "Non-trainable params: 0\n",
            "_________________________________________________________________\n"
          ],
          "name": "stdout"
        }
      ]
    },
    {
      "cell_type": "code",
      "metadata": {
        "id": "EJdWGeT5572h",
        "colab_type": "code",
        "outputId": "c4a41485-5082-46b8-a2fe-71e9c11312ad",
        "colab": {
          "base_uri": "https://localhost:8080/",
          "height": 373
        }
      },
      "source": [
        "history=model.fit(X_train,Y_train,epochs=10,validation_split=0.2,batch_size=500)"
      ],
      "execution_count": 0,
      "outputs": [
        {
          "output_type": "stream",
          "text": [
            "W0725 14:01:13.135771 140109529372544 deprecation.py:323] From /usr/local/lib/python3.6/dist-packages/tensorflow/python/ops/math_grad.py:1250: add_dispatch_support.<locals>.wrapper (from tensorflow.python.ops.array_ops) is deprecated and will be removed in a future version.\n",
            "Instructions for updating:\n",
            "Use tf.where in 2.0, which has the same broadcast rule as np.where\n"
          ],
          "name": "stderr"
        },
        {
          "output_type": "stream",
          "text": [
            "Train on 30327 samples, validate on 7582 samples\n",
            "Epoch 1/10\n",
            "30327/30327 [==============================] - 414s 14ms/step - loss: 1.2565 - acc: 0.5787 - val_loss: 1.1161 - val_acc: 0.5798\n",
            "Epoch 2/10\n",
            "30327/30327 [==============================] - 413s 14ms/step - loss: 1.0423 - acc: 0.5942 - val_loss: 1.0033 - val_acc: 0.5942\n",
            "Epoch 3/10\n",
            "30327/30327 [==============================] - 414s 14ms/step - loss: 0.9646 - acc: 0.6162 - val_loss: 0.9588 - val_acc: 0.6056\n",
            "Epoch 4/10\n",
            "30327/30327 [==============================] - 413s 14ms/step - loss: 0.9146 - acc: 0.6308 - val_loss: 0.9401 - val_acc: 0.6101\n",
            "Epoch 5/10\n",
            "30327/30327 [==============================] - 413s 14ms/step - loss: 0.8866 - acc: 0.6406 - val_loss: 0.9335 - val_acc: 0.6161\n",
            "Epoch 6/10\n",
            "30327/30327 [==============================] - 373s 12ms/step - loss: 0.8636 - acc: 0.6516 - val_loss: 0.9363 - val_acc: 0.6130\n",
            "Epoch 7/10\n",
            "30327/30327 [==============================] - 401s 13ms/step - loss: 0.8410 - acc: 0.6609 - val_loss: 0.9352 - val_acc: 0.6162\n",
            "Epoch 8/10\n",
            " 5000/30327 [===>..........................] - ETA: 4:34 - loss: 0.8055 - acc: 0.6740"
          ],
          "name": "stdout"
        }
      ]
    },
    {
      "cell_type": "code",
      "metadata": {
        "id": "cdy9wp5FBpw1",
        "colab_type": "code",
        "outputId": "b6a2ae5a-acab-4463-c08e-dc32baaa2585",
        "colab": {
          "base_uri": "https://localhost:8080/",
          "height": 286
        }
      },
      "source": [
        "plt.plot(history.history['loss'])\n",
        "plt.plot(history.history['val_loss'])"
      ],
      "execution_count": 0,
      "outputs": [
        {
          "output_type": "execute_result",
          "data": {
            "text/plain": [
              "[<matplotlib.lines.Line2D at 0x7f0566584550>]"
            ]
          },
          "metadata": {
            "tags": []
          },
          "execution_count": 21
        },
        {
          "output_type": "display_data",
          "data": {
            "image/png": "[encoded data removed]",
            "text/plain": [
              "<Figure size 432x288 with 1 Axes>"
            ]
          },
          "metadata": {
            "tags": []
          }
        }
      ]
    },
    {
      "cell_type": "markdown",
      "metadata": {
        "id": "ujDduwe38zFK",
        "colab_type": "text"
      },
      "source": [
        "##Bidirectional LSTM"
      ]
    },
    {
      "cell_type": "code",
      "metadata": {
        "id": "PH-steBs81cy",
        "colab_type": "code",
        "outputId": "0a416148-9de4-4375-acde-fb1428b406aa",
        "colab": {
          "base_uri": "https://localhost:8080/",
          "height": 235
        }
      },
      "source": [
        "model = Sequential()\n",
        "model.add(Embedding(2500,128,input_length=X.shape[1],dropout=0.2))\n",
        "model.add(Bidirectional(LSTM(30, dropout_U=0.2,dropout_W=0.2)))\n",
        "model.add(Dense(5,activation='softmax'))\n",
        "model.compile(loss=keras.losses.categorical_crossentropy,optimizer='adam',metrics=['accuracy'])\n",
        "model.summary()"
      ],
      "execution_count": 0,
      "outputs": [
        {
          "output_type": "stream",
          "text": [
            "_________________________________________________________________\n",
            "Layer (type)                 Output Shape              Param #   \n",
            "=================================================================\n",
            "embedding_2 (Embedding)      (None, 2488, 128)         320000    \n",
            "_________________________________________________________________\n",
            "bidirectional_2 (Bidirection (None, 60)                38160     \n",
            "_________________________________________________________________\n",
            "dense_2 (Dense)              (None, 5)                 305       \n",
            "=================================================================\n",
            "Total params: 358,465\n",
            "Trainable params: 358,465\n",
            "Non-trainable params: 0\n",
            "_________________________________________________________________\n"
          ],
          "name": "stdout"
        }
      ]
    },
    {
      "cell_type": "code",
      "metadata": {
        "id": "HBoQ1WFT9Qtx",
        "colab_type": "code",
        "outputId": "1623a571-ff00-46a6-e5d6-d9f89fea9e02",
        "colab": {
          "base_uri": "https://localhost:8080/",
          "height": 440
        }
      },
      "source": [
        "history=model.fit(X_train,Y_train,epochs=10,validation_split=0.2,batch_size=500)"
      ],
      "execution_count": 0,
      "outputs": [
        {
          "output_type": "stream",
          "text": [
            "W0727 15:23:59.649552 140466201745280 deprecation.py:323] From /usr/local/lib/python3.6/dist-packages/tensorflow/python/ops/math_grad.py:1250: add_dispatch_support.<locals>.wrapper (from tensorflow.python.ops.array_ops) is deprecated and will be removed in a future version.\n",
            "Instructions for updating:\n",
            "Use tf.where in 2.0, which has the same broadcast rule as np.where\n"
          ],
          "name": "stderr"
        },
        {
          "output_type": "stream",
          "text": [
            "Train on 23760 samples, validate on 5940 samples\n",
            "Epoch 1/10\n",
            "23760/23760 [==============================] - 525s 22ms/step - loss: 1.3157 - acc: 0.5426 - val_loss: 1.1703 - val_acc: 0.5667\n",
            "Epoch 2/10\n",
            "23760/23760 [==============================] - 525s 22ms/step - loss: 1.1160 - acc: 0.5640 - val_loss: 1.0210 - val_acc: 0.5753\n",
            "Epoch 3/10\n",
            "23760/23760 [==============================] - 526s 22ms/step - loss: 0.9982 - acc: 0.5936 - val_loss: 0.9990 - val_acc: 0.5870\n",
            "Epoch 4/10\n",
            "23760/23760 [==============================] - 524s 22ms/step - loss: 0.9498 - acc: 0.6120 - val_loss: 0.9603 - val_acc: 0.6017\n",
            "Epoch 5/10\n",
            "23760/23760 [==============================] - 524s 22ms/step - loss: 0.9185 - acc: 0.6206 - val_loss: 0.9513 - val_acc: 0.6047\n",
            "Epoch 6/10\n",
            "23760/23760 [==============================] - 516s 22ms/step - loss: 0.8894 - acc: 0.6318 - val_loss: 0.9402 - val_acc: 0.6104\n",
            "Epoch 7/10\n",
            "23760/23760 [==============================] - 519s 22ms/step - loss: 0.8699 - acc: 0.6418 - val_loss: 0.9379 - val_acc: 0.6077\n",
            "Epoch 8/10\n",
            "23760/23760 [==============================] - 523s 22ms/step - loss: 0.8463 - acc: 0.6555 - val_loss: 0.9471 - val_acc: 0.6167\n",
            "Epoch 9/10\n",
            "23760/23760 [==============================] - 525s 22ms/step - loss: 0.8299 - acc: 0.6615 - val_loss: 0.9450 - val_acc: 0.6204\n",
            "Epoch 10/10\n",
            "23760/23760 [==============================] - 528s 22ms/step - loss: 0.8196 - acc: 0.6651 - val_loss: 0.9537 - val_acc: 0.6209\n"
          ],
          "name": "stdout"
        }
      ]
    },
    {
      "cell_type": "code",
      "metadata": {
        "id": "opsfigkGEFGZ",
        "colab_type": "code",
        "colab": {
          "base_uri": "https://localhost:8080/",
          "height": 286
        },
        "outputId": "73b70268-557e-40c1-a69f-1b97c0256eb0"
      },
      "source": [
        "plt.plot(history.history['acc'])\n",
        "plt.plot(history.history['val_acc'])"
      ],
      "execution_count": 16,
      "outputs": [
        {
          "output_type": "execute_result",
          "data": {
            "text/plain": [
              "[<matplotlib.lines.Line2D at 0x7fc0602ddd30>]"
            ]
          },
          "metadata": {
            "tags": []
          },
          "execution_count": 16
        },
        {
          "output_type": "display_data",
          "data": {
            "image/png": "[encoded data removed]",
            "text/plain": [
              "<Figure size 432x288 with 1 Axes>"
            ]
          },
          "metadata": {
            "tags": []
          }
        }
      ]
    },
    {
      "cell_type": "code",
      "metadata": {
        "id": "BJxt3VHZIwKC",
        "colab_type": "code",
        "outputId": "67236156-209d-4b9b-b405-299de05c3d07",
        "colab": {
          "base_uri": "https://localhost:8080/",
          "height": 286
        }
      },
      "source": [
        "plt.plot(history.history['loss'])\n",
        "plt.plot(history.history['val_loss'])"
      ],
      "execution_count": 15,
      "outputs": [
        {
          "output_type": "execute_result",
          "data": {
            "text/plain": [
              "[<matplotlib.lines.Line2D at 0x7fc060310dd8>]"
            ]
          },
          "metadata": {
            "tags": []
          },
          "execution_count": 15
        },
        {
          "output_type": "display_data",
          "data": {
            "image/png": "[encoded data removed]",
            "text/plain": [
              "<Figure size 432x288 with 1 Axes>"
            ]
          },
          "metadata": {
            "tags": []
          }
        }
      ]
    }
  ]
}